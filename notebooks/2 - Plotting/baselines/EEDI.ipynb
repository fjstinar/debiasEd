{
 "cells": [
  {
   "cell_type": "code",
   "execution_count": 1,
   "id": "0840f9be-f7e1-4f87-8534-d5b0a5408262",
   "metadata": {
    "execution": {
     "iopub.execute_input": "2025-02-19T00:55:56.753142Z",
     "iopub.status.busy": "2025-02-19T00:55:56.752941Z",
     "iopub.status.idle": "2025-02-19T00:55:56.760375Z",
     "shell.execute_reply": "2025-02-19T00:55:56.759827Z",
     "shell.execute_reply.started": "2025-02-19T00:55:56.753122Z"
    }
   },
   "outputs": [
    {
     "name": "stdout",
     "output_type": "stream",
     "text": [
      "/Users/cock/kDrive/PhD/projects/labs/redacted-groupies/src\n"
     ]
    }
   ],
   "source": [
    "cd ../../../src"
   ]
  },
  {
   "cell_type": "code",
   "execution_count": 2,
   "id": "52d132d6-9142-449e-9c93-61fbcf07640d",
   "metadata": {
    "execution": {
     "iopub.execute_input": "2025-02-19T00:55:56.761252Z",
     "iopub.status.busy": "2025-02-19T00:55:56.761084Z",
     "iopub.status.idle": "2025-02-19T00:56:03.625147Z",
     "shell.execute_reply": "2025-02-19T00:56:03.624257Z",
     "shell.execute_reply.started": "2025-02-19T00:55:56.761234Z"
    }
   },
   "outputs": [
    {
     "name": "stderr",
     "output_type": "stream",
     "text": [
      "2025-02-19 01:56:01.954691: I tensorflow/core/platform/cpu_feature_guard.cc:182] This TensorFlow binary is optimized to use available CPU instructions in performance-critical operations.\n",
      "To enable the following instructions: AVX2 FMA, in other operations, rebuild TensorFlow with the appropriate compiler flags.\n"
     ]
    }
   ],
   "source": [
    "import yaml\n",
    "import pickle\n",
    "import argparse\n",
    "import numpy as np\n",
    "from collections import Counter\n",
    "\n",
    "from pipelines.feature_pipeline import FeaturePipeline\n",
    "\n",
    "from plotters.data_report import DataReport\n",
    "from plotters.classification_report import ClassificationReport\n",
    "from pipelines.crossvalidation_pipeline import CrossValMaker\n",
    "\n",
    "from matplotlib import pyplot as plt\n",
    "import seaborn as sns"
   ]
  },
  {
   "cell_type": "code",
   "execution_count": 3,
   "id": "a248898a-9d3a-45ba-b1ab-fa21f07e78db",
   "metadata": {
    "execution": {
     "iopub.execute_input": "2025-02-19T00:56:03.626680Z",
     "iopub.status.busy": "2025-02-19T00:56:03.626333Z",
     "iopub.status.idle": "2025-02-19T00:56:25.393249Z",
     "shell.execute_reply": "2025-02-19T00:56:25.392470Z",
     "shell.execute_reply.started": "2025-02-19T00:56:03.626659Z"
    }
   },
   "outputs": [],
   "source": [
    "with open('./configs/plot_config.yaml', 'r') as f:\n",
    "    settings = yaml.load(f, Loader=yaml.FullLoader)\n",
    "settings['crossvalidation'] = {\n",
    "    'scorer': {\n",
    "        'scoring_metrics': settings['classification']['metrics'],\n",
    "        'fairness_metrics': settings['fairness']['metrics']\n",
    "    }\n",
    "}\n",
    "pipeline = FeaturePipeline(settings)\n",
    "features, labels, demographics, settings = pipeline.load_sequences()"
   ]
  },
  {
   "cell_type": "code",
   "execution_count": 4,
   "id": "90e6e774-a9c9-404e-a16b-49643f9400bf",
   "metadata": {
    "execution": {
     "iopub.execute_input": "2025-02-19T00:56:25.394398Z",
     "iopub.status.busy": "2025-02-19T00:56:25.394066Z",
     "iopub.status.idle": "2025-02-19T00:56:25.441143Z",
     "shell.execute_reply": "2025-02-19T00:56:25.440346Z",
     "shell.execute_reply.started": "2025-02-19T00:56:25.394376Z"
    }
   },
   "outputs": [],
   "source": [
    "path = '/Users/cock/kDrive/PhD/projects/labs/redacted-groupies/experiments/baselines-models/eedi/baselines/2025_02_18_0/results/nested_xval_mlogr_modelseeds897_all_folds.pkl'\n",
    "with open(path, 'rb') as fp:\n",
    "    experiment = pickle.load(fp)"
   ]
  },
  {
   "cell_type": "code",
   "execution_count": 5,
   "id": "c83445eb-8882-4ffa-b684-72dcefa99d7b",
   "metadata": {
    "execution": {
     "iopub.execute_input": "2025-02-19T00:56:25.442384Z",
     "iopub.status.busy": "2025-02-19T00:56:25.442102Z",
     "iopub.status.idle": "2025-02-19T00:56:25.548175Z",
     "shell.execute_reply": "2025-02-19T00:56:25.547630Z",
     "shell.execute_reply.started": "2025-02-19T00:56:25.442365Z"
    }
   },
   "outputs": [],
   "source": [
    "for fold in range(1):\n",
    "    truths = [labels[tidx] for tidx in experiment[fold]['test_index']]\n",
    "    probas = experiment[fold]['y_proba']\n",
    "    preds = experiment[fold]['y_pred']"
   ]
  },
  {
   "cell_type": "code",
   "execution_count": 6,
   "id": "fe1020ad-d5dd-4dbf-9aeb-caeb3bd4b1b6",
   "metadata": {
    "execution": {
     "iopub.execute_input": "2025-02-19T00:56:25.551458Z",
     "iopub.status.busy": "2025-02-19T00:56:25.551187Z",
     "iopub.status.idle": "2025-02-19T00:56:25.806559Z",
     "shell.execute_reply": "2025-02-19T00:56:25.805968Z",
     "shell.execute_reply.started": "2025-02-19T00:56:25.551442Z"
    }
   },
   "outputs": [],
   "source": [
    "p = [idx for idx in range(len(truths)) if truths[idx] == 1]\n",
    "n = [idx for idx in range(len(truths)) if truths[idx] == 0]\n",
    "\n",
    "fp = [fidx for fidx in n if preds[fidx] == 1]\n",
    "fp_probas = [probas[fidx][1] for fidx in n if preds[fidx] == 1]\n",
    "fn = [fidx for fidx in p if preds[fidx] == 0]\n",
    "fn_probas = [probas[fidx][1] for fidx in p if preds[fidx] == 0]\n",
    "\n",
    "tp_probas = [probas[tidx][1] for tidx in p if preds[tidx] == 1]\n",
    "tn_probas = [probas[tidx][1] for tidx in n if preds[tidx] == 0]"
   ]
  },
  {
   "cell_type": "code",
   "execution_count": 7,
   "id": "5fa2a5fb-5c27-48a8-9de7-244e8642ac0e",
   "metadata": {
    "execution": {
     "iopub.execute_input": "2025-02-19T00:56:25.808136Z",
     "iopub.status.busy": "2025-02-19T00:56:25.807574Z",
     "iopub.status.idle": "2025-02-19T00:56:25.812496Z",
     "shell.execute_reply": "2025-02-19T00:56:25.811655Z",
     "shell.execute_reply.started": "2025-02-19T00:56:25.808119Z"
    }
   },
   "outputs": [
    {
     "name": "stdout",
     "output_type": "stream",
     "text": [
      "f 0: best parameters 10, roc 0.5034269365643521\n"
     ]
    }
   ],
   "source": [
    "for fold in range(1):\n",
    "    print('f {}: best parameters {}, roc {}'.format(\n",
    "        fold, experiment[fold]['best_params']['C'], experiment[fold]['roc']\n",
    "    ))"
   ]
  },
  {
   "cell_type": "code",
   "execution_count": 8,
   "id": "846f288e-e65f-4f7d-9253-2083467c6dab",
   "metadata": {
    "execution": {
     "iopub.execute_input": "2025-02-19T00:56:25.813852Z",
     "iopub.status.busy": "2025-02-19T00:56:25.813338Z",
     "iopub.status.idle": "2025-02-19T00:56:26.336924Z",
     "shell.execute_reply": "2025-02-19T00:56:26.336169Z",
     "shell.execute_reply.started": "2025-02-19T00:56:25.813832Z"
    }
   },
   "outputs": [
    {
     "name": "stdout",
     "output_type": "stream",
     "text": [
      "f 0: best parameters C 100, roc 0.5159386777938231\n"
     ]
    }
   ],
   "source": [
    "path = '/Users/cock/kDrive/PhD/projects/labs/redacted-groupies/experiments/baselines-models/eedi2/2025_02_18_0/results/nested_xval_mlogr_modelseeds984_all_folds.pkl'\n",
    "with open(path, 'rb') as fp:\n",
    "    experiment = pickle.load(fp)\n",
    "\n",
    "for fold in range(1):\n",
    "    truths = [labels[tidx] for tidx in experiment[fold]['test_index']]\n",
    "    probas = experiment[fold]['y_proba']\n",
    "    preds = experiment[fold]['y_pred']\n",
    "\n",
    "p = [idx for idx in range(len(truths)) if truths[idx] == 1]\n",
    "n = [idx for idx in range(len(truths)) if truths[idx] == 0]\n",
    "\n",
    "fp = [fidx for fidx in n if preds[fidx] == 1]\n",
    "fp_probas = [probas[fidx][1] for fidx in n if preds[fidx] == 1]\n",
    "fn = [fidx for fidx in p if preds[fidx] == 0]\n",
    "fn_probas = [probas[fidx][1] for fidx in p if preds[fidx] == 0]\n",
    "\n",
    "tp_probas = [probas[tidx][1] for tidx in p if preds[tidx] == 1]\n",
    "tn_probas = [probas[tidx][1] for tidx in n if preds[tidx] == 0]\n",
    "\n",
    "for fold in range(1):\n",
    "    print('f {}: best parameters C {}, roc {}'.format(\n",
    "        fold, experiment[fold]['best_params']['C'], experiment[fold]['roc']\n",
    "    ))"
   ]
  },
  {
   "cell_type": "code",
   "execution_count": null,
   "id": "f414c35d-48a1-4288-8e42-33a30665bb9c",
   "metadata": {},
   "outputs": [],
   "source": []
  },
  {
   "cell_type": "code",
   "execution_count": null,
   "id": "c4217514-3b39-4443-b7ba-d47c06aca89a",
   "metadata": {},
   "outputs": [],
   "source": []
  },
  {
   "cell_type": "code",
   "execution_count": null,
   "id": "90977f9b-07b0-4aa0-8ac6-fcc824f90187",
   "metadata": {},
   "outputs": [],
   "source": []
  },
  {
   "cell_type": "code",
   "execution_count": null,
   "id": "27b7bd1c-c2d6-4f7e-a339-790022ccffb1",
   "metadata": {},
   "outputs": [],
   "source": []
  },
  {
   "cell_type": "code",
   "execution_count": null,
   "id": "bcce9831-f35c-4f4c-a20a-44352e6ee6a4",
   "metadata": {},
   "outputs": [],
   "source": []
  },
  {
   "cell_type": "code",
   "execution_count": null,
   "id": "a2fab476-e099-4ac8-ba3a-fc5519382a95",
   "metadata": {},
   "outputs": [],
   "source": []
  },
  {
   "cell_type": "code",
   "execution_count": null,
   "id": "67210de0-da8b-429d-9238-ecb27d178a18",
   "metadata": {},
   "outputs": [],
   "source": []
  },
  {
   "cell_type": "code",
   "execution_count": null,
   "id": "5e75cdf5-4507-4e7e-ab29-c1362acc9cb8",
   "metadata": {},
   "outputs": [],
   "source": []
  },
  {
   "cell_type": "code",
   "execution_count": null,
   "id": "92d22528-b3cc-4814-ba01-5e19f9abbab5",
   "metadata": {},
   "outputs": [],
   "source": []
  },
  {
   "cell_type": "code",
   "execution_count": null,
   "id": "9dd1562c-0582-4748-9a51-76bbcd38d98d",
   "metadata": {},
   "outputs": [],
   "source": []
  },
  {
   "cell_type": "code",
   "execution_count": null,
   "id": "f0f696ae-0e37-48a2-86fe-e1d2c73317e8",
   "metadata": {},
   "outputs": [],
   "source": []
  },
  {
   "cell_type": "code",
   "execution_count": null,
   "id": "770fca2e-9c6b-4b30-99ae-e80667ecc83a",
   "metadata": {},
   "outputs": [],
   "source": []
  },
  {
   "cell_type": "code",
   "execution_count": null,
   "id": "bb73be3d-5609-41a2-b3a9-416ee678393b",
   "metadata": {},
   "outputs": [],
   "source": []
  },
  {
   "cell_type": "code",
   "execution_count": null,
   "id": "4a26e64d-3fe7-4eee-9c5b-ebc74ef21261",
   "metadata": {},
   "outputs": [],
   "source": []
  },
  {
   "cell_type": "code",
   "execution_count": null,
   "id": "9e7f8f25-9db7-4937-a745-195e58aa0490",
   "metadata": {},
   "outputs": [],
   "source": []
  },
  {
   "cell_type": "code",
   "execution_count": null,
   "id": "78127fa8-5e59-4d3b-b531-d430a6d5656f",
   "metadata": {},
   "outputs": [],
   "source": []
  },
  {
   "cell_type": "code",
   "execution_count": null,
   "id": "935eb9c8-bac4-4bed-b356-add7553e7e05",
   "metadata": {},
   "outputs": [],
   "source": []
  }
 ],
 "metadata": {
  "kernelspec": {
   "display_name": "Python 3 (ipykernel)",
   "language": "python",
   "name": "python3"
  },
  "language_info": {
   "codemirror_mode": {
    "name": "ipython",
    "version": 3
   },
   "file_extension": ".py",
   "mimetype": "text/x-python",
   "name": "python",
   "nbconvert_exporter": "python",
   "pygments_lexer": "ipython3",
   "version": "3.11.0"
  }
 },
 "nbformat": 4,
 "nbformat_minor": 5
}
