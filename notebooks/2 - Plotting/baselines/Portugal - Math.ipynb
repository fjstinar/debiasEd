{
 "cells": [
  {
   "cell_type": "code",
   "execution_count": 1,
   "id": "0840f9be-f7e1-4f87-8534-d5b0a5408262",
   "metadata": {
    "execution": {
     "iopub.execute_input": "2025-02-04T00:35:01.884814Z",
     "iopub.status.busy": "2025-02-04T00:35:01.884510Z",
     "iopub.status.idle": "2025-02-04T00:35:01.892477Z",
     "shell.execute_reply": "2025-02-04T00:35:01.891336Z",
     "shell.execute_reply.started": "2025-02-04T00:35:01.884792Z"
    }
   },
   "outputs": [
    {
     "name": "stdout",
     "output_type": "stream",
     "text": [
      "/Users/cock/kDrive/PhD/projects/labs/redacted-groupies/src\n"
     ]
    }
   ],
   "source": [
    "cd ../../../src"
   ]
  },
  {
   "cell_type": "code",
   "execution_count": 2,
   "id": "52d132d6-9142-449e-9c93-61fbcf07640d",
   "metadata": {
    "execution": {
     "iopub.execute_input": "2025-02-04T00:35:01.893620Z",
     "iopub.status.busy": "2025-02-04T00:35:01.893364Z",
     "iopub.status.idle": "2025-02-04T00:35:09.256740Z",
     "shell.execute_reply": "2025-02-04T00:35:09.256142Z",
     "shell.execute_reply.started": "2025-02-04T00:35:01.893600Z"
    }
   },
   "outputs": [
    {
     "name": "stderr",
     "output_type": "stream",
     "text": [
      "2025-02-04 01:35:06.873305: I tensorflow/core/platform/cpu_feature_guard.cc:182] This TensorFlow binary is optimized to use available CPU instructions in performance-critical operations.\n",
      "To enable the following instructions: AVX2 FMA, in other operations, rebuild TensorFlow with the appropriate compiler flags.\n"
     ]
    }
   ],
   "source": [
    "import yaml\n",
    "import pickle\n",
    "import argparse\n",
    "import numpy as np\n",
    "from collections import Counter\n",
    "\n",
    "from pipelines.feature_pipeline import FeaturePipeline\n",
    "\n",
    "from plotters.data_report import DataReport\n",
    "from plotters.classification_report import ClassificationReport\n",
    "from pipelines.crossvalidation_pipeline import CrossValMaker\n",
    "\n",
    "from matplotlib import pyplot as plt\n",
    "import seaborn as sns"
   ]
  },
  {
   "cell_type": "code",
   "execution_count": 3,
   "id": "a248898a-9d3a-45ba-b1ab-fa21f07e78db",
   "metadata": {
    "execution": {
     "iopub.execute_input": "2025-02-04T00:35:09.258236Z",
     "iopub.status.busy": "2025-02-04T00:35:09.257627Z",
     "iopub.status.idle": "2025-02-04T00:35:09.334213Z",
     "shell.execute_reply": "2025-02-04T00:35:09.333678Z",
     "shell.execute_reply.started": "2025-02-04T00:35:09.258213Z"
    }
   },
   "outputs": [],
   "source": [
    "with open('./configs/plot_config.yaml', 'r') as f:\n",
    "    settings = yaml.load(f, Loader=yaml.FullLoader)\n",
    "settings['crossvalidation'] = {\n",
    "    'scorer': {\n",
    "        'scoring_metrics': settings['classification']['metrics'],\n",
    "        'fairness_metrics': settings['fairness']['metrics']\n",
    "    }\n",
    "}\n",
    "pipeline = FeaturePipeline(settings)\n",
    "features, labels, demographics, settings = pipeline.load_sequences()"
   ]
  },
  {
   "cell_type": "code",
   "execution_count": 4,
   "id": "90e6e774-a9c9-404e-a16b-49643f9400bf",
   "metadata": {
    "execution": {
     "iopub.execute_input": "2025-02-04T00:35:09.334989Z",
     "iopub.status.busy": "2025-02-04T00:35:09.334807Z",
     "iopub.status.idle": "2025-02-04T00:35:09.341772Z",
     "shell.execute_reply": "2025-02-04T00:35:09.341139Z",
     "shell.execute_reply.started": "2025-02-04T00:35:09.334971Z"
    }
   },
   "outputs": [],
   "source": [
    "path = '/Users/cock/kDrive/PhD/projects/labs/redacted-groupies/experiments/baselines/portugal-math/nested_xval_mgarf_modelseeds105_all_folds.pkl'\n",
    "with open(path, 'rb') as fp:\n",
    "    experiment = pickle.load(fp)"
   ]
  },
  {
   "cell_type": "code",
   "execution_count": 5,
   "id": "c83445eb-8882-4ffa-b684-72dcefa99d7b",
   "metadata": {
    "execution": {
     "iopub.execute_input": "2025-02-04T00:35:09.342692Z",
     "iopub.status.busy": "2025-02-04T00:35:09.342521Z",
     "iopub.status.idle": "2025-02-04T00:35:09.346029Z",
     "shell.execute_reply": "2025-02-04T00:35:09.345513Z",
     "shell.execute_reply.started": "2025-02-04T00:35:09.342675Z"
    }
   },
   "outputs": [],
   "source": [
    "for fold in range(10):\n",
    "    truths = [labels[tidx] for tidx in experiment[fold]['test_index']]\n",
    "    probas = experiment[fold]['y_proba']\n",
    "    preds = experiment[fold]['y_pred']"
   ]
  },
  {
   "cell_type": "code",
   "execution_count": 6,
   "id": "fe1020ad-d5dd-4dbf-9aeb-caeb3bd4b1b6",
   "metadata": {
    "execution": {
     "iopub.execute_input": "2025-02-04T00:35:09.348618Z",
     "iopub.status.busy": "2025-02-04T00:35:09.348384Z",
     "iopub.status.idle": "2025-02-04T00:35:09.353141Z",
     "shell.execute_reply": "2025-02-04T00:35:09.352590Z",
     "shell.execute_reply.started": "2025-02-04T00:35:09.348597Z"
    }
   },
   "outputs": [],
   "source": [
    "p = [idx for idx in range(len(truths)) if truths[idx] == 1]\n",
    "n = [idx for idx in range(len(truths)) if truths[idx] == 0]\n",
    "\n",
    "fp = [fidx for fidx in n if preds[fidx] == 1]\n",
    "fp_probas = [probas[fidx][1] for fidx in n if preds[fidx] == 1]\n",
    "fn = [fidx for fidx in p if preds[fidx] == 0]\n",
    "fn_probas = [probas[fidx][1] for fidx in p if preds[fidx] == 0]\n",
    "\n",
    "tp_probas = [probas[tidx][1] for tidx in p if preds[tidx] == 1]\n",
    "tn_probas = [probas[tidx][1] for tidx in n if preds[tidx] == 0]"
   ]
  },
  {
   "cell_type": "code",
   "execution_count": 7,
   "id": "5fa2a5fb-5c27-48a8-9de7-244e8642ac0e",
   "metadata": {
    "execution": {
     "iopub.execute_input": "2025-02-04T00:35:09.353895Z",
     "iopub.status.busy": "2025-02-04T00:35:09.353720Z",
     "iopub.status.idle": "2025-02-04T00:35:09.357553Z",
     "shell.execute_reply": "2025-02-04T00:35:09.356959Z",
     "shell.execute_reply.started": "2025-02-04T00:35:09.353877Z"
    }
   },
   "outputs": [
    {
     "name": "stdout",
     "output_type": "stream",
     "text": [
      "f 0: n est - 7, max depth - 3, population size - 10, generations - 5\n",
      "f 1: n est - 3, max depth - 7, population size - 20, generations - 10\n",
      "f 2: n est - 3, max depth - 3, population size - 10, generations - 10\n",
      "f 3: n est - 7, max depth - 3, population size - 10, generations - 5\n",
      "f 4: n est - 3, max depth - 3, population size - 10, generations - 10\n",
      "f 5: n est - 7, max depth - 3, population size - 10, generations - 5\n",
      "f 6: n est - 7, max depth - 3, population size - 10, generations - 10\n",
      "f 7: n est - 7, max depth - 7, population size - 20, generations - 10\n",
      "f 8: n est - 7, max depth - 7, population size - 10, generations - 5\n",
      "f 9: n est - 7, max depth - 3, population size - 10, generations - 5\n"
     ]
    }
   ],
   "source": [
    "for fold in range(10):\n",
    "    print('f {}: n est - {}, max depth - {}, population size - {}, generations - {}'.format(\n",
    "        fold, experiment[fold]['best_params']['n_estimators'], experiment[fold]['best_params']['max_depth'],\n",
    "        experiment[fold]['best_params']['population_size'], experiment[fold]['best_params']['generations']\n",
    "    ))"
   ]
  },
  {
   "cell_type": "code",
   "execution_count": null,
   "id": "846f288e-e65f-4f7d-9253-2083467c6dab",
   "metadata": {},
   "outputs": [],
   "source": [
    "7 - 3 - 10 - 5"
   ]
  },
  {
   "cell_type": "code",
   "execution_count": null,
   "id": "f414c35d-48a1-4288-8e42-33a30665bb9c",
   "metadata": {},
   "outputs": [],
   "source": []
  },
  {
   "cell_type": "code",
   "execution_count": null,
   "id": "c4217514-3b39-4443-b7ba-d47c06aca89a",
   "metadata": {},
   "outputs": [],
   "source": []
  },
  {
   "cell_type": "code",
   "execution_count": null,
   "id": "90977f9b-07b0-4aa0-8ac6-fcc824f90187",
   "metadata": {},
   "outputs": [],
   "source": []
  },
  {
   "cell_type": "code",
   "execution_count": null,
   "id": "27b7bd1c-c2d6-4f7e-a339-790022ccffb1",
   "metadata": {},
   "outputs": [],
   "source": []
  },
  {
   "cell_type": "code",
   "execution_count": null,
   "id": "bcce9831-f35c-4f4c-a20a-44352e6ee6a4",
   "metadata": {},
   "outputs": [],
   "source": []
  },
  {
   "cell_type": "code",
   "execution_count": null,
   "id": "a2fab476-e099-4ac8-ba3a-fc5519382a95",
   "metadata": {},
   "outputs": [],
   "source": []
  },
  {
   "cell_type": "code",
   "execution_count": null,
   "id": "67210de0-da8b-429d-9238-ecb27d178a18",
   "metadata": {},
   "outputs": [],
   "source": []
  },
  {
   "cell_type": "code",
   "execution_count": null,
   "id": "5e75cdf5-4507-4e7e-ab29-c1362acc9cb8",
   "metadata": {},
   "outputs": [],
   "source": []
  },
  {
   "cell_type": "code",
   "execution_count": null,
   "id": "92d22528-b3cc-4814-ba01-5e19f9abbab5",
   "metadata": {},
   "outputs": [],
   "source": []
  },
  {
   "cell_type": "code",
   "execution_count": null,
   "id": "9dd1562c-0582-4748-9a51-76bbcd38d98d",
   "metadata": {},
   "outputs": [],
   "source": []
  },
  {
   "cell_type": "code",
   "execution_count": null,
   "id": "f0f696ae-0e37-48a2-86fe-e1d2c73317e8",
   "metadata": {},
   "outputs": [],
   "source": []
  },
  {
   "cell_type": "code",
   "execution_count": null,
   "id": "770fca2e-9c6b-4b30-99ae-e80667ecc83a",
   "metadata": {},
   "outputs": [],
   "source": []
  },
  {
   "cell_type": "code",
   "execution_count": null,
   "id": "bb73be3d-5609-41a2-b3a9-416ee678393b",
   "metadata": {},
   "outputs": [],
   "source": []
  },
  {
   "cell_type": "code",
   "execution_count": null,
   "id": "4a26e64d-3fe7-4eee-9c5b-ebc74ef21261",
   "metadata": {},
   "outputs": [],
   "source": []
  },
  {
   "cell_type": "code",
   "execution_count": null,
   "id": "9e7f8f25-9db7-4937-a745-195e58aa0490",
   "metadata": {},
   "outputs": [],
   "source": []
  },
  {
   "cell_type": "code",
   "execution_count": null,
   "id": "78127fa8-5e59-4d3b-b531-d430a6d5656f",
   "metadata": {},
   "outputs": [],
   "source": []
  },
  {
   "cell_type": "code",
   "execution_count": null,
   "id": "935eb9c8-bac4-4bed-b356-add7553e7e05",
   "metadata": {},
   "outputs": [],
   "source": []
  }
 ],
 "metadata": {
  "kernelspec": {
   "display_name": "Python 3 (ipykernel)",
   "language": "python",
   "name": "python3"
  },
  "language_info": {
   "codemirror_mode": {
    "name": "ipython",
    "version": 3
   },
   "file_extension": ".py",
   "mimetype": "text/x-python",
   "name": "python",
   "nbconvert_exporter": "python",
   "pygments_lexer": "ipython3",
   "version": "3.11.0"
  }
 },
 "nbformat": 4,
 "nbformat_minor": 5
}
