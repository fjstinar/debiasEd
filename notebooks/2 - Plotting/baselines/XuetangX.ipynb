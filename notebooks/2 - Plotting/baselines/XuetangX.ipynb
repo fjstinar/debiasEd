{
 "cells": [
  {
   "cell_type": "code",
   "execution_count": 1,
   "id": "0840f9be-f7e1-4f87-8534-d5b0a5408262",
   "metadata": {
    "execution": {
     "iopub.execute_input": "2025-02-14T13:59:14.888391Z",
     "iopub.status.busy": "2025-02-14T13:59:14.887764Z",
     "iopub.status.idle": "2025-02-14T13:59:14.901478Z",
     "shell.execute_reply": "2025-02-14T13:59:14.899982Z",
     "shell.execute_reply.started": "2025-02-14T13:59:14.888356Z"
    }
   },
   "outputs": [
    {
     "name": "stdout",
     "output_type": "stream",
     "text": [
      "/Users/cock/kDrive/PhD/projects/labs/redacted-groupies/src\n"
     ]
    }
   ],
   "source": [
    "cd ../../../src"
   ]
  },
  {
   "cell_type": "code",
   "execution_count": 2,
   "id": "52d132d6-9142-449e-9c93-61fbcf07640d",
   "metadata": {
    "execution": {
     "iopub.execute_input": "2025-02-14T13:59:15.235537Z",
     "iopub.status.busy": "2025-02-14T13:59:15.235367Z",
     "iopub.status.idle": "2025-02-14T13:59:27.211266Z",
     "shell.execute_reply": "2025-02-14T13:59:27.210389Z",
     "shell.execute_reply.started": "2025-02-14T13:59:15.235520Z"
    }
   },
   "outputs": [
    {
     "name": "stderr",
     "output_type": "stream",
     "text": [
      "2025-02-14 14:59:23.730364: I tensorflow/core/platform/cpu_feature_guard.cc:182] This TensorFlow binary is optimized to use available CPU instructions in performance-critical operations.\n",
      "To enable the following instructions: AVX2 FMA, in other operations, rebuild TensorFlow with the appropriate compiler flags.\n"
     ]
    }
   ],
   "source": [
    "import yaml\n",
    "import pickle\n",
    "import argparse\n",
    "import numpy as np\n",
    "from collections import Counter\n",
    "\n",
    "from pipelines.feature_pipeline import FeaturePipeline\n",
    "\n",
    "from plotters.data_report import DataReport\n",
    "from plotters.classification_report import ClassificationReport\n",
    "from pipelines.crossvalidation_pipeline import CrossValMaker\n",
    "\n",
    "from matplotlib import pyplot as plt\n",
    "import seaborn as sns"
   ]
  },
  {
   "cell_type": "code",
   "execution_count": 3,
   "id": "a248898a-9d3a-45ba-b1ab-fa21f07e78db",
   "metadata": {
    "execution": {
     "iopub.execute_input": "2025-02-14T13:59:27.215874Z",
     "iopub.status.busy": "2025-02-14T13:59:27.215642Z",
     "iopub.status.idle": "2025-02-14T13:59:29.587973Z",
     "shell.execute_reply": "2025-02-14T13:59:29.587410Z",
     "shell.execute_reply.started": "2025-02-14T13:59:27.215854Z"
    }
   },
   "outputs": [],
   "source": [
    "with open('./configs/plot_config.yaml', 'r') as f:\n",
    "    settings = yaml.load(f, Loader=yaml.FullLoader)\n",
    "settings['crossvalidation'] = {\n",
    "    'scorer': {\n",
    "        'scoring_metrics': settings['classification']['metrics'],\n",
    "        'fairness_metrics': settings['fairness']['metrics']\n",
    "    }\n",
    "}\n",
    "pipeline = FeaturePipeline(settings)\n",
    "features, labels, demographics, settings = pipeline.load_sequences()"
   ]
  },
  {
   "cell_type": "code",
   "execution_count": 4,
   "id": "90e6e774-a9c9-404e-a16b-49643f9400bf",
   "metadata": {
    "execution": {
     "iopub.execute_input": "2025-02-14T13:59:29.588739Z",
     "iopub.status.busy": "2025-02-14T13:59:29.588574Z",
     "iopub.status.idle": "2025-02-14T13:59:29.594770Z",
     "shell.execute_reply": "2025-02-14T13:59:29.594174Z",
     "shell.execute_reply.started": "2025-02-14T13:59:29.588721Z"
    }
   },
   "outputs": [],
   "source": [
    "path = '/Users/cock/kDrive/PhD/projects/labs/redacted-groupies/experiments/baselines-models/xuetangx/dataxuetangx_modelx_mitigationdummyxx/2025_02_05_1/results/trnonnested_xval_msssvc_modelseeds126_all_folds.pkl'\n",
    "with open(path, 'rb') as fp:\n",
    "    experiment = pickle.load(fp)"
   ]
  },
  {
   "cell_type": "code",
   "execution_count": 5,
   "id": "c83445eb-8882-4ffa-b684-72dcefa99d7b",
   "metadata": {
    "execution": {
     "iopub.execute_input": "2025-02-14T13:59:30.424633Z",
     "iopub.status.busy": "2025-02-14T13:59:30.424323Z",
     "iopub.status.idle": "2025-02-14T13:59:30.431519Z",
     "shell.execute_reply": "2025-02-14T13:59:30.430662Z",
     "shell.execute_reply.started": "2025-02-14T13:59:30.424606Z"
    }
   },
   "outputs": [],
   "source": [
    "for fold in range(1):\n",
    "    truths = [labels[tidx] for tidx in experiment[fold]['test_index']]\n",
    "    probas = experiment[fold]['y_proba']\n",
    "    preds = experiment[fold]['y_pred']"
   ]
  },
  {
   "cell_type": "code",
   "execution_count": 6,
   "id": "fe1020ad-d5dd-4dbf-9aeb-caeb3bd4b1b6",
   "metadata": {
    "execution": {
     "iopub.execute_input": "2025-02-14T13:59:32.705363Z",
     "iopub.status.busy": "2025-02-14T13:59:32.705045Z",
     "iopub.status.idle": "2025-02-14T13:59:32.734460Z",
     "shell.execute_reply": "2025-02-14T13:59:32.733538Z",
     "shell.execute_reply.started": "2025-02-14T13:59:32.705339Z"
    }
   },
   "outputs": [],
   "source": [
    "p = [idx for idx in range(len(truths)) if truths[idx] == 1]\n",
    "n = [idx for idx in range(len(truths)) if truths[idx] == 0]\n",
    "\n",
    "fp = [fidx for fidx in n if preds[fidx] == 1]\n",
    "fp_probas = [probas[fidx][1] for fidx in n if preds[fidx] == 1]\n",
    "fn = [fidx for fidx in p if preds[fidx] == 0]\n",
    "fn_probas = [probas[fidx][1] for fidx in p if preds[fidx] == 0]\n",
    "\n",
    "tp_probas = [probas[tidx][1] for tidx in p if preds[tidx] == 1]\n",
    "tn_probas = [probas[tidx][1] for tidx in n if preds[tidx] == 0]"
   ]
  },
  {
   "cell_type": "code",
   "execution_count": 10,
   "id": "8fd41014-3948-4464-af4b-e293bd75dcd8",
   "metadata": {
    "execution": {
     "iopub.execute_input": "2025-02-14T14:00:04.986006Z",
     "iopub.status.busy": "2025-02-14T14:00:04.985741Z",
     "iopub.status.idle": "2025-02-14T14:00:04.989605Z",
     "shell.execute_reply": "2025-02-14T14:00:04.989115Z",
     "shell.execute_reply.started": "2025-02-14T14:00:04.985987Z"
    }
   },
   "outputs": [
    {
     "data": {
      "text/plain": [
       "'/volume/cock/groupies/experiments/test/dataxuetangx_modelx_mitigationdummyxx/2025_02_05_1//models/svc_fold_0'"
      ]
     },
     "execution_count": 10,
     "metadata": {},
     "output_type": "execute_result"
    }
   ],
   "source": [
    "experiment[0]['best_estimator']"
   ]
  },
  {
   "cell_type": "code",
   "execution_count": 12,
   "id": "af4d61db-5160-47a4-bd16-d99ac0841b08",
   "metadata": {
    "execution": {
     "iopub.execute_input": "2025-02-14T14:00:28.580457Z",
     "iopub.status.busy": "2025-02-14T14:00:28.580169Z",
     "iopub.status.idle": "2025-02-14T14:00:28.588581Z",
     "shell.execute_reply": "2025-02-14T14:00:28.587909Z",
     "shell.execute_reply.started": "2025-02-14T14:00:28.580434Z"
    }
   },
   "outputs": [
    {
     "data": {
      "text/plain": [
       "{'experiment': {'root_name': 'test',\n",
       "  'name': '/volume/cock/groupies/experiments/test/dataxuetangx_modelx_mitigationdummyxx/2025_02_05_1/',\n",
       "  'max_seed': 999,\n",
       "  'model_seeds_n': 1,\n",
       "  'nclasses': 'x'},\n",
       " 'pipeline': {'dataset': 'xuetangx',\n",
       "  'crossvalidator': 'nonnested',\n",
       "  'predictor': 'sssvc',\n",
       "  'preprocessor': 'dummy',\n",
       "  'inprocessor': 'x',\n",
       "  'postprocessor': 'x',\n",
       "  'labels': 'x',\n",
       "  'outer_splitter': 'stratkf',\n",
       "  'gs_splitter': 'stratkf',\n",
       "  'gridsearch': 'supgs',\n",
       "  'nclasses': 2,\n",
       "  'attributes': {'mitigating': 'gender',\n",
       "   'discriminated': '_2',\n",
       "   'included': [-1, -2]}},\n",
       " 'crossvalidation': {'nfolds': 5,\n",
       "  'parameters_gridsearch': 'exhaustive',\n",
       "  'paramgrid': {'x': ['x']},\n",
       "  'stratifier_col': 'binary_label',\n",
       "  'shuffle': True,\n",
       "  'nested_xval': {'paramgrid': {'kernel': ['linear', 'poly', 'sigmoid'],\n",
       "    'C': [0.0001, 0.1, 10]},\n",
       "   'optim_scoring': 'roc'},\n",
       "  'nestedpreproc_xval': {'paramgrid': ['x'], 'optim_scoring': 'roc'},\n",
       "  'sync_xval': {'paramgrid': ['x'], 'optim_scoring': 'roc'},\n",
       "  'post_cval': {'paramgrid': ['x'], 'optim_scoring': 'roc'},\n",
       "  'scorer': {'scoring_metrics': ['tp',\n",
       "    'fp',\n",
       "    'roc',\n",
       "    'recall',\n",
       "    'precision',\n",
       "    'balanced_accuracy',\n",
       "    'roc'],\n",
       "   'fairness_metrics': ['tp',\n",
       "    'fp',\n",
       "    'roc',\n",
       "    'recall',\n",
       "    'precision',\n",
       "    'balanced_accuracy',\n",
       "    'roc']}},\n",
       " 'predictors': {'early_stopping': False,\n",
       "  'lstm': {'cell_type': 'GRU',\n",
       "   'n_layers': 1,\n",
       "   'n_cells': [16],\n",
       "   'dropout': 0.02,\n",
       "   'optimiser': 'adam',\n",
       "   'loss': 'cce',\n",
       "   'batch_size': 16,\n",
       "   'verbose': -1,\n",
       "   'padding_value': 0,\n",
       "   'early_stopping': False,\n",
       "   'save_best_model': True,\n",
       "   'patience': 5,\n",
       "   'shuffle': False,\n",
       "   'epochs': 50},\n",
       "  'decision_tree': {'max_depth': None},\n",
       "  'garf': {'n_estimators': 5,\n",
       "   'max_depth': 5,\n",
       "   'population_size': 10,\n",
       "   'generations': 10},\n",
       "  'smotennrf': {'n_estimators': 5, 'max_depth': 3},\n",
       "  'sssvc': {'kernel': 'linear', 'C': 0.001},\n",
       "  'lr': {'penalty': 'l2', 'C': 0.0001, 'solver': 'liblinear'}},\n",
       " 'preprocessors': {'rebalance': {'index': 3, 'dummy': 5},\n",
       "  'luong': {'k': 3},\n",
       "  'alabdulmohsin': {'sgd_steps': 10,\n",
       "   'full_gradient_epochs': 1,\n",
       "   'max_admm_iter': 1},\n",
       "  'zemel': {'k': 3},\n",
       "  'lahoti': {'k': 3, 'max_iter': 1000},\n",
       "  'lahoti2': {'k': 3, 'max_iter': 1000},\n",
       "  'zehlike': {'thetas': 0.1},\n",
       "  'chawla': {'k': 5, 'sampling_strategy': 'minority'},\n",
       "  'calders': {'sampling_proportions': 1},\n",
       "  'yan': {'clustering': 'kmeans', 'knn': 5},\n",
       "  'celis': {'sampling_factor': 1.25},\n",
       "  'li': {'C_factor': 10, 'fairness_metric': 'dp'},\n",
       "  'salazar': {'oversampling_factor': 2,\n",
       "   'safe_weight': 1,\n",
       "   'borderline_weight': 1,\n",
       "   'rare_weight': 0.7},\n",
       "  'dablain': {'proportion': 1, 'k': 5},\n",
       "  'zelaya': {'d': -0.3},\n",
       "  'singh': {'k': 5},\n",
       "  'jiang': {'unfair_metric': 'tp', 'population_size': 100, 'max_gen': 50},\n",
       "  'cock': {'clustering': 'spectral',\n",
       "   'combinations': [2, 3, 4, 5, 6, 7, 8, 9, 10]}},\n",
       " 'postprocessors': {'pleiss': {'alpha': 0.2, 'lambda': '10 ...'}},\n",
       " 'preprocessing': False,\n",
       " 'postprocessing': False,\n",
       " 'baseline': True,\n",
       " 'cluster': True,\n",
       " 'test': False,\n",
       " 'dataset': 'xuetangx',\n",
       " 'experiment_name': '',\n",
       " 'pre_type': 'dummy',\n",
       " 'post_type': '',\n",
       " 'paths': {'data': '/volume/cock/groupies/data',\n",
       "  'experiments': '/volume/cock/groupies/experiments/'},\n",
       " 'seeds': {'splitter': 27,\n",
       "  'oversampler': 269,\n",
       "  'model': 126,\n",
       "  'inprocessor': 67,\n",
       "  'preprocessor': 92,\n",
       "  'postprocessor': 95},\n",
       " 'plotter': {'experiment_indices': 1}}"
      ]
     },
     "execution_count": 12,
     "metadata": {},
     "output_type": "execute_result"
    }
   ],
   "source": [
    "experiment['settings']"
   ]
  },
  {
   "cell_type": "code",
   "execution_count": 7,
   "id": "5fa2a5fb-5c27-48a8-9de7-244e8642ac0e",
   "metadata": {
    "execution": {
     "iopub.execute_input": "2025-02-14T13:59:33.879234Z",
     "iopub.status.busy": "2025-02-14T13:59:33.878923Z",
     "iopub.status.idle": "2025-02-14T13:59:34.316417Z",
     "shell.execute_reply": "2025-02-14T13:59:34.314993Z",
     "shell.execute_reply.started": "2025-02-14T13:59:33.879209Z"
    }
   },
   "outputs": [
    {
     "ename": "KeyError",
     "evalue": "'best_params'",
     "output_type": "error",
     "traceback": [
      "\u001b[0;31m---------------------------------------------------------------------------\u001b[0m",
      "\u001b[0;31mKeyError\u001b[0m                                  Traceback (most recent call last)",
      "Cell \u001b[0;32mIn[7], line 3\u001b[0m\n\u001b[1;32m      1\u001b[0m \u001b[38;5;28;01mfor\u001b[39;00m fold \u001b[38;5;129;01min\u001b[39;00m \u001b[38;5;28mrange\u001b[39m(\u001b[38;5;241m10\u001b[39m):\n\u001b[1;32m      2\u001b[0m     \u001b[38;5;28mprint\u001b[39m(\u001b[38;5;124m'\u001b[39m\u001b[38;5;124mf \u001b[39m\u001b[38;5;132;01m{}\u001b[39;00m\u001b[38;5;124m: n est - \u001b[39m\u001b[38;5;132;01m{}\u001b[39;00m\u001b[38;5;124m, max depth - \u001b[39m\u001b[38;5;132;01m{}\u001b[39;00m\u001b[38;5;124m'\u001b[39m\u001b[38;5;241m.\u001b[39mformat(\n\u001b[0;32m----> 3\u001b[0m         fold, \u001b[43mexperiment\u001b[49m\u001b[43m[\u001b[49m\u001b[43mfold\u001b[49m\u001b[43m]\u001b[49m\u001b[43m[\u001b[49m\u001b[38;5;124;43m'\u001b[39;49m\u001b[38;5;124;43mbest_params\u001b[39;49m\u001b[38;5;124;43m'\u001b[39;49m\u001b[43m]\u001b[49m[\u001b[38;5;124m'\u001b[39m\u001b[38;5;124mn_estimators\u001b[39m\u001b[38;5;124m'\u001b[39m], experiment[fold][\u001b[38;5;124m'\u001b[39m\u001b[38;5;124mbest_params\u001b[39m\u001b[38;5;124m'\u001b[39m][\u001b[38;5;124m'\u001b[39m\u001b[38;5;124mmax_depth\u001b[39m\u001b[38;5;124m'\u001b[39m]\n\u001b[1;32m      4\u001b[0m     ))\n",
      "\u001b[0;31mKeyError\u001b[0m: 'best_params'"
     ]
    }
   ],
   "source": [
    "for fold in range(10):\n",
    "    print('f {}: n est - {}, max depth - {}'.format(\n",
    "        fold, experiment[fold]['best_params']['n_estimators'], experiment[fold]['best_params']['max_depth']\n",
    "    ))"
   ]
  },
  {
   "cell_type": "code",
   "execution_count": null,
   "id": "846f288e-e65f-4f7d-9253-2083467c6dab",
   "metadata": {},
   "outputs": [],
   "source": []
  },
  {
   "cell_type": "code",
   "execution_count": null,
   "id": "f414c35d-48a1-4288-8e42-33a30665bb9c",
   "metadata": {},
   "outputs": [],
   "source": []
  },
  {
   "cell_type": "code",
   "execution_count": null,
   "id": "c4217514-3b39-4443-b7ba-d47c06aca89a",
   "metadata": {},
   "outputs": [],
   "source": []
  },
  {
   "cell_type": "code",
   "execution_count": null,
   "id": "90977f9b-07b0-4aa0-8ac6-fcc824f90187",
   "metadata": {},
   "outputs": [],
   "source": []
  },
  {
   "cell_type": "code",
   "execution_count": null,
   "id": "27b7bd1c-c2d6-4f7e-a339-790022ccffb1",
   "metadata": {},
   "outputs": [],
   "source": []
  },
  {
   "cell_type": "code",
   "execution_count": null,
   "id": "bcce9831-f35c-4f4c-a20a-44352e6ee6a4",
   "metadata": {},
   "outputs": [],
   "source": []
  },
  {
   "cell_type": "code",
   "execution_count": null,
   "id": "a2fab476-e099-4ac8-ba3a-fc5519382a95",
   "metadata": {},
   "outputs": [],
   "source": []
  },
  {
   "cell_type": "code",
   "execution_count": null,
   "id": "67210de0-da8b-429d-9238-ecb27d178a18",
   "metadata": {},
   "outputs": [],
   "source": []
  },
  {
   "cell_type": "code",
   "execution_count": null,
   "id": "5e75cdf5-4507-4e7e-ab29-c1362acc9cb8",
   "metadata": {},
   "outputs": [],
   "source": []
  },
  {
   "cell_type": "code",
   "execution_count": null,
   "id": "92d22528-b3cc-4814-ba01-5e19f9abbab5",
   "metadata": {},
   "outputs": [],
   "source": []
  },
  {
   "cell_type": "code",
   "execution_count": null,
   "id": "9dd1562c-0582-4748-9a51-76bbcd38d98d",
   "metadata": {},
   "outputs": [],
   "source": []
  },
  {
   "cell_type": "code",
   "execution_count": null,
   "id": "f0f696ae-0e37-48a2-86fe-e1d2c73317e8",
   "metadata": {},
   "outputs": [],
   "source": []
  },
  {
   "cell_type": "code",
   "execution_count": null,
   "id": "770fca2e-9c6b-4b30-99ae-e80667ecc83a",
   "metadata": {},
   "outputs": [],
   "source": []
  },
  {
   "cell_type": "code",
   "execution_count": null,
   "id": "bb73be3d-5609-41a2-b3a9-416ee678393b",
   "metadata": {},
   "outputs": [],
   "source": []
  },
  {
   "cell_type": "code",
   "execution_count": null,
   "id": "4a26e64d-3fe7-4eee-9c5b-ebc74ef21261",
   "metadata": {},
   "outputs": [],
   "source": []
  },
  {
   "cell_type": "code",
   "execution_count": null,
   "id": "9e7f8f25-9db7-4937-a745-195e58aa0490",
   "metadata": {},
   "outputs": [],
   "source": []
  },
  {
   "cell_type": "code",
   "execution_count": null,
   "id": "78127fa8-5e59-4d3b-b531-d430a6d5656f",
   "metadata": {},
   "outputs": [],
   "source": []
  },
  {
   "cell_type": "code",
   "execution_count": null,
   "id": "935eb9c8-bac4-4bed-b356-add7553e7e05",
   "metadata": {},
   "outputs": [],
   "source": []
  }
 ],
 "metadata": {
  "kernelspec": {
   "display_name": "Python 3 (ipykernel)",
   "language": "python",
   "name": "python3"
  },
  "language_info": {
   "codemirror_mode": {
    "name": "ipython",
    "version": 3
   },
   "file_extension": ".py",
   "mimetype": "text/x-python",
   "name": "python",
   "nbconvert_exporter": "python",
   "pygments_lexer": "ipython3",
   "version": "3.11.0"
  }
 },
 "nbformat": 4,
 "nbformat_minor": 5
}
