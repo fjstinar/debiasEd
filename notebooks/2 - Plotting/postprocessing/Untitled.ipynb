{
 "cells": [
  {
   "cell_type": "code",
   "execution_count": 1,
   "id": "54305fdf-bab7-46b4-942c-d3c4f6c0eca2",
   "metadata": {
    "execution": {
     "iopub.execute_input": "2025-02-18T15:25:00.942011Z",
     "iopub.status.busy": "2025-02-18T15:25:00.941728Z",
     "iopub.status.idle": "2025-02-18T15:25:01.278634Z",
     "shell.execute_reply": "2025-02-18T15:25:01.278117Z",
     "shell.execute_reply.started": "2025-02-18T15:25:00.941987Z"
    }
   },
   "outputs": [],
   "source": [
    "import os\n",
    "import pickle\n",
    "import numpy as np\n",
    "import pandas as pd"
   ]
  },
  {
   "cell_type": "code",
   "execution_count": 2,
   "id": "5cf57c1f-9116-4a7e-950e-4ff364b70637",
   "metadata": {
    "execution": {
     "iopub.execute_input": "2025-02-18T15:25:01.279693Z",
     "iopub.status.busy": "2025-02-18T15:25:01.279366Z",
     "iopub.status.idle": "2025-02-18T15:25:01.283646Z",
     "shell.execute_reply": "2025-02-18T15:25:01.283089Z",
     "shell.execute_reply.started": "2025-02-18T15:25:01.279675Z"
    }
   },
   "outputs": [
    {
     "name": "stdout",
     "output_type": "stream",
     "text": [
      "/Users/cock/kDrive/PhD/projects/labs/redacted-groupies/src\n"
     ]
    }
   ],
   "source": [
    "cd ../../../src"
   ]
  },
  {
   "cell_type": "code",
   "execution_count": 3,
   "id": "a7e4de98-5eae-42c0-9bcc-556941faac3d",
   "metadata": {
    "execution": {
     "iopub.execute_input": "2025-02-18T15:25:01.284446Z",
     "iopub.status.busy": "2025-02-18T15:25:01.284268Z",
     "iopub.status.idle": "2025-02-18T15:25:01.288398Z",
     "shell.execute_reply": "2025-02-18T15:25:01.287788Z",
     "shell.execute_reply.started": "2025-02-18T15:25:01.284428Z"
    }
   },
   "outputs": [],
   "source": [
    "#### Baselines\n",
    "paths = {\n",
    "    'xuetangx': {\n",
    "        'baseline': '../experiments/baselines-models/xuetangx/dataxuetangx_modelx_mitigationdummyxx/2025_02_05_1/results/trnonnested_xval_msssvc_modelseeds126_all_folds.pkl',\n",
    "        'snel': '/Users/cock/kDrive/PhD/projects/labs/redacted-groupies/experiments/postprocessing/math/datastudent-performance-math_modelx_mitigationxxkamiran/2025_02_16_0/results/syncnestedpostproc_xval_mkamiranpost_modelseeds242_all_folds.pkl',\n",
    "        'kamiran': '/Users/cock/kDrive/PhD/projects/labs/redacted-groupies/experiments/postprocessing/xuetangx/dataxuetangx_modelx_mitigationpostkamiran/2025_02_17_0/results/syncnestedpostproc_xval_mkamiranpost_modelseeds875_all_folds.pkl',\n",
    "    },\n",
    "#    'oulad': {\n",
    "#        'baseline': '../experiments/baselines-models/oulad/baselines/larger-grid/2025_02_17_0/results/nested_xval_msmotennrf_modelseeds170_all_folds.pkl',\n",
    "#        'snel': ,\n",
    "#        'kamiran': ,\n",
    "#    },\n",
    "    'math': {\n",
    "        'baseline': '../experiments/baselines-models/math/baselines/2025_02_04_0/results/nested_xval_mgarf_modelseeds524_all_folds.pkl',\n",
    "        'snel': '/Users/cock/kDrive/PhD/projects/labs/redacted-groupies/experiments/postprocessing/math/datastudent-performance-math_modelx_mitigationxxsnel/2025_02_16_0/results/syncnestedpostproc_xval_msnel_modelseeds905_all_folds.pkl',\n",
    "        'kamiran': '/Users/cock/kDrive/PhD/projects/labs/redacted-groupies/experiments/postprocessing/math/datastudent-performance-math_modelx_mitigationxxkamiran/2025_02_16_0/results/syncnestedpostproc_xval_mkamiranpost_modelseeds242_all_folds.pkl',\n",
    "    },\n",
    "    'portugal': {\n",
    "        'baseline': '../experiments/baselines-models/portugal/baselines/2025_02_04_0/results/nested_xval_mgarf_modelseeds898_all_folds.pkl',\n",
    "        'snel': '/Users/cock/kDrive/PhD/projects/labs/redacted-groupies/experiments/postprocessing/portugal/datastudent-performance-por_modelx_mitigationxxsnel/2025_02_14_16/results/syncnestedpostproc_xval_msnel_modelseeds385_all_folds.pkl',\n",
    "        'kamiran': '/Users/cock/kDrive/PhD/projects/labs/redacted-groupies/experiments/postprocessing/portugal/datastudent-performance-por_modelx_mitigationxxkamiran/2025_02_14_13/results/syncnestedpostproc_xval_mkamiranpost_modelseeds543_all_folds.pkl',\n",
    "    },\n",
    "        \n",
    "}\n"
   ]
  },
  {
   "cell_type": "code",
   "execution_count": 4,
   "id": "2b8614f6-7852-4750-b3f8-3c55f9d13884",
   "metadata": {
    "execution": {
     "iopub.execute_input": "2025-02-18T15:25:01.289630Z",
     "iopub.status.busy": "2025-02-18T15:25:01.289329Z",
     "iopub.status.idle": "2025-02-18T15:25:01.312745Z",
     "shell.execute_reply": "2025-02-18T15:25:01.312192Z",
     "shell.execute_reply.started": "2025-02-18T15:25:01.289610Z"
    }
   },
   "outputs": [],
   "source": [
    "for dataset in paths:\n",
    "    with open(paths[dataset]['baseline'], 'rb') as fp:\n",
    "        baseline = pickle.load(fp)\n",
    "\n",
    "    with open(paths[dataset]['snel'], 'rb') as fp:\n",
    "        snel = pickle.load(fp)\n",
    "\n",
    "    with open(paths[dataset]['kamiran'], 'rb') as fp:\n",
    "        kamiran = pickle.load(fp)\n",
    "\n",
    "    for fold in range(10):\n",
    "        if fold in baseline:\n",
    "            if fold in snel:\n",
    "                snel[fold]['test_index'] = baseline[fold]['test_index']\n",
    "            if fold in kamiran:\n",
    "                kamiran[fold]['test_index'] = baseline[fold]['test_index']\n",
    "\n",
    "    with open(paths[dataset]['snel'], 'wb') as fp:\n",
    "        pickle.dump(snel, fp)\n",
    "\n",
    "    with open(paths[dataset]['kamiran'], 'wb') as fp:\n",
    "        pickle.dump(kamiran, fp)"
   ]
  },
  {
   "cell_type": "code",
   "execution_count": null,
   "id": "a016e539-9fd7-49ab-8379-e44a8bb552ae",
   "metadata": {},
   "outputs": [],
   "source": []
  },
  {
   "cell_type": "code",
   "execution_count": null,
   "id": "ec7fd8fd-79c5-4b46-8fdf-c7d83ceeba06",
   "metadata": {},
   "outputs": [],
   "source": []
  },
  {
   "cell_type": "code",
   "execution_count": null,
   "id": "36aceb14-4959-4e05-a3ca-9860162db38b",
   "metadata": {},
   "outputs": [],
   "source": []
  },
  {
   "cell_type": "code",
   "execution_count": null,
   "id": "d225b914-a842-438b-997d-9ff877522a6c",
   "metadata": {},
   "outputs": [],
   "source": []
  },
  {
   "cell_type": "code",
   "execution_count": null,
   "id": "cc274596-ac3f-4481-8530-e4ce4c3b282b",
   "metadata": {},
   "outputs": [],
   "source": []
  },
  {
   "cell_type": "code",
   "execution_count": null,
   "id": "f34eff33-e207-4d10-9462-b6ec9fdc6641",
   "metadata": {},
   "outputs": [],
   "source": []
  },
  {
   "cell_type": "code",
   "execution_count": null,
   "id": "598f140c-6686-4a63-b568-fcbb60e1445e",
   "metadata": {},
   "outputs": [],
   "source": []
  },
  {
   "cell_type": "code",
   "execution_count": null,
   "id": "22b3e271-90cc-4727-9a1d-a38940251048",
   "metadata": {},
   "outputs": [],
   "source": []
  },
  {
   "cell_type": "code",
   "execution_count": null,
   "id": "73a4122c-5353-4929-855d-c08e69ee9cb2",
   "metadata": {},
   "outputs": [],
   "source": []
  },
  {
   "cell_type": "code",
   "execution_count": null,
   "id": "11ccf066-58d6-4819-9def-4fec9c69d9b9",
   "metadata": {},
   "outputs": [],
   "source": []
  },
  {
   "cell_type": "code",
   "execution_count": null,
   "id": "0d372b63-f85d-43d0-8418-6ccfecc219cc",
   "metadata": {},
   "outputs": [],
   "source": []
  },
  {
   "cell_type": "code",
   "execution_count": null,
   "id": "275f3f39-6cb2-4a65-ac13-6de72b2a3502",
   "metadata": {},
   "outputs": [],
   "source": []
  },
  {
   "cell_type": "code",
   "execution_count": null,
   "id": "0bab40dd-5763-44df-bb08-20f659506fbf",
   "metadata": {},
   "outputs": [],
   "source": []
  }
 ],
 "metadata": {
  "kernelspec": {
   "display_name": "Python 3 (ipykernel)",
   "language": "python",
   "name": "python3"
  },
  "language_info": {
   "codemirror_mode": {
    "name": "ipython",
    "version": 3
   },
   "file_extension": ".py",
   "mimetype": "text/x-python",
   "name": "python",
   "nbconvert_exporter": "python",
   "pygments_lexer": "ipython3",
   "version": "3.11.0"
  }
 },
 "nbformat": 4,
 "nbformat_minor": 5
}
