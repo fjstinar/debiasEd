{
 "cells": [
  {
   "cell_type": "code",
   "execution_count": 1,
   "id": "a2b2b635-ae5e-435d-80cc-8e7b30c55d9d",
   "metadata": {
    "execution": {
     "iopub.execute_input": "2025-02-18T17:33:49.304675Z",
     "iopub.status.busy": "2025-02-18T17:33:49.304205Z",
     "iopub.status.idle": "2025-02-18T17:33:49.661439Z",
     "shell.execute_reply": "2025-02-18T17:33:49.660937Z",
     "shell.execute_reply.started": "2025-02-18T17:33:49.304637Z"
    }
   },
   "outputs": [],
   "source": [
    "import os\n",
    "import pickle\n",
    "import pandas as np\n",
    "import pandas as pd"
   ]
  },
  {
   "cell_type": "code",
   "execution_count": 2,
   "id": "d8dbe765-72e1-4ed2-a8bc-9c1a7a361d33",
   "metadata": {
    "execution": {
     "iopub.execute_input": "2025-02-18T17:33:49.662463Z",
     "iopub.status.busy": "2025-02-18T17:33:49.662146Z",
     "iopub.status.idle": "2025-02-18T17:33:49.666769Z",
     "shell.execute_reply": "2025-02-18T17:33:49.666105Z",
     "shell.execute_reply.started": "2025-02-18T17:33:49.662446Z"
    }
   },
   "outputs": [
    {
     "name": "stdout",
     "output_type": "stream",
     "text": [
      "/Users/cock/kDrive/PhD/projects/labs/redacted-groupies/src\n"
     ]
    }
   ],
   "source": [
    "cd ../../src"
   ]
  },
  {
   "cell_type": "code",
   "execution_count": 3,
   "id": "2b043ae6-83ed-4af6-af05-97bb8a572c56",
   "metadata": {
    "execution": {
     "iopub.execute_input": "2025-02-18T17:33:49.667917Z",
     "iopub.status.busy": "2025-02-18T17:33:49.667644Z",
     "iopub.status.idle": "2025-02-18T17:34:08.330054Z",
     "shell.execute_reply": "2025-02-18T17:34:08.329418Z",
     "shell.execute_reply.started": "2025-02-18T17:33:49.667897Z"
    }
   },
   "outputs": [],
   "source": [
    "with open('../data/eedi/data_dictionary.pkl', 'rb') as fp:\n",
    "    eedi = pickle.load(fp)"
   ]
  },
  {
   "cell_type": "code",
   "execution_count": 4,
   "id": "c092a4a8-b4e1-4d16-9e91-f8a5d810fc90",
   "metadata": {
    "execution": {
     "iopub.execute_input": "2025-02-18T17:34:08.331063Z",
     "iopub.status.busy": "2025-02-18T17:34:08.330889Z",
     "iopub.status.idle": "2025-02-18T17:34:11.909417Z",
     "shell.execute_reply": "2025-02-18T17:34:11.908806Z",
     "shell.execute_reply.started": "2025-02-18T17:34:08.331045Z"
    }
   },
   "outputs": [],
   "source": [
    "for idx in eedi['data']:\n",
    "    eedi['data'][idx]['features'] = eedi['data'][idx]['features'][:-1]\n",
    "    eedi['data'][idx]['strat'] = '{}_{}'.format(eedi['data'][idx]['learner_id'], eedi['data'][idx]['binary_label'])\n",
    "eedi['available_demographics'] = ['learner_id', 'strat', 'gender']"
   ]
  },
  {
   "cell_type": "code",
   "execution_count": 5,
   "id": "0e756d92-2bde-434e-82c3-2c91d4739d70",
   "metadata": {
    "execution": {
     "iopub.execute_input": "2025-02-18T17:35:15.700454Z",
     "iopub.status.busy": "2025-02-18T17:35:15.700167Z",
     "iopub.status.idle": "2025-02-18T17:35:47.828639Z",
     "shell.execute_reply": "2025-02-18T17:35:47.828023Z",
     "shell.execute_reply.started": "2025-02-18T17:35:15.700433Z"
    }
   },
   "outputs": [],
   "source": [
    "with open('../data/eedi/data_dictionary.pkl', 'wb') as fp:\n",
    "    pickle.dump(eedi, fp)"
   ]
  },
  {
   "cell_type": "code",
   "execution_count": 6,
   "id": "9aeadd41-c93a-4536-ae70-f143bff4a93a",
   "metadata": {
    "execution": {
     "iopub.execute_input": "2025-02-18T18:56:06.748483Z",
     "iopub.status.busy": "2025-02-18T18:56:06.748204Z",
     "iopub.status.idle": "2025-02-18T18:57:07.087912Z",
     "shell.execute_reply": "2025-02-18T18:57:07.087108Z",
     "shell.execute_reply.started": "2025-02-18T18:56:06.748460Z"
    }
   },
   "outputs": [],
   "source": [
    "with open('../data/eedi/data_dictionary2.pkl', 'rb') as fp:\n",
    "    eedi = pickle.load(fp)\n",
    "\n",
    "for idx in eedi['data']:\n",
    "    eedi['data'][idx]['features'] = eedi['data'][idx]['features'][:-1]\n",
    "    eedi['data'][idx]['strat'] = '{}_{}'.format(eedi['data'][idx]['learner_id'], eedi['data'][idx]['binary_label'])\n",
    "eedi['available_demographics'] = ['learner_id', 'strat', 'gender']\n",
    "\n",
    "with open('../data/eedi/data_dictionary2.pkl', 'wb') as fp:\n",
    "    pickle.dump(eedi, fp)"
   ]
  },
  {
   "cell_type": "code",
   "execution_count": 8,
   "id": "3f8fadaf-282a-4fb3-8900-464f52d4c6a4",
   "metadata": {
    "execution": {
     "iopub.execute_input": "2025-02-18T18:59:27.963704Z",
     "iopub.status.busy": "2025-02-18T18:59:27.963431Z",
     "iopub.status.idle": "2025-02-18T19:00:30.748666Z",
     "shell.execute_reply": "2025-02-18T19:00:30.747795Z",
     "shell.execute_reply.started": "2025-02-18T18:59:27.963682Z"
    }
   },
   "outputs": [],
   "source": [
    "with open('../data/eedi/data_dictionary2.pkl', 'rb') as fp:\n",
    "    eedi = pickle.load(fp)\n",
    "\n",
    "for idx in eedi['data']:\n",
    "    eedi['data'][idx]['features'] = eedi['data'][idx]['features'][:-1]\n",
    "    eedi['data'][idx]['strat'] = '{}_{}'.format(eedi['data'][idx]['learner_id'], eedi['data'][idx]['binary_label'])\n",
    "eedi['available_demographics'] = ['learner_id', 'strat', 'gender']\n",
    "\n",
    "with open('../data/eedi/data_dictionary2.pkl', 'wb') as fp:\n",
    "    pickle.dump(eedi, fp)"
   ]
  },
  {
   "cell_type": "code",
   "execution_count": 11,
   "id": "eb6677a8-198b-48f4-8ace-8f360acba090",
   "metadata": {
    "execution": {
     "iopub.execute_input": "2025-02-18T19:04:38.264588Z",
     "iopub.status.busy": "2025-02-18T19:04:38.264307Z",
     "iopub.status.idle": "2025-02-18T19:04:39.061933Z",
     "shell.execute_reply": "2025-02-18T19:04:39.061203Z",
     "shell.execute_reply.started": "2025-02-18T19:04:38.264567Z"
    }
   },
   "outputs": [],
   "source": [
    "bls = [eedi['data'][idx]['binary_label'] for idx in eedi['data']]"
   ]
  },
  {
   "cell_type": "code",
   "execution_count": 12,
   "id": "da6a5576-9f64-49be-8c60-42e0d3fb1c50",
   "metadata": {
    "execution": {
     "iopub.execute_input": "2025-02-18T19:04:39.894531Z",
     "iopub.status.busy": "2025-02-18T19:04:39.894246Z",
     "iopub.status.idle": "2025-02-18T19:04:40.267199Z",
     "shell.execute_reply": "2025-02-18T19:04:40.266326Z",
     "shell.execute_reply.started": "2025-02-18T19:04:39.894512Z"
    }
   },
   "outputs": [
    {
     "name": "stderr",
     "output_type": "stream",
     "text": [
      "/var/folders/jy/0pp1md9x1358dt8g8k69srhr0000gp/T/ipykernel_8163/1173944493.py:1: FutureWarning: unique with argument that is not not a Series, Index, ExtensionArray, or np.ndarray is deprecated and will raise in a future version.\n",
      "  np.unique(bls)\n"
     ]
    },
    {
     "data": {
      "text/plain": [
       "array([0, 1])"
      ]
     },
     "execution_count": 12,
     "metadata": {},
     "output_type": "execute_result"
    }
   ],
   "source": [
    "np.unique(bls)"
   ]
  },
  {
   "cell_type": "code",
   "execution_count": null,
   "id": "1782189d-fcc0-439f-a15d-e46becb3c733",
   "metadata": {},
   "outputs": [],
   "source": []
  },
  {
   "cell_type": "code",
   "execution_count": null,
   "id": "ed008d32-bfd4-4f35-bd91-dd7ba0f884ed",
   "metadata": {},
   "outputs": [],
   "source": []
  },
  {
   "cell_type": "code",
   "execution_count": null,
   "id": "091fc89c-84ce-430b-981f-befc667def9f",
   "metadata": {},
   "outputs": [],
   "source": []
  },
  {
   "cell_type": "code",
   "execution_count": null,
   "id": "d07ffccf-e8c3-4f95-828d-38b8672d0168",
   "metadata": {},
   "outputs": [],
   "source": []
  },
  {
   "cell_type": "code",
   "execution_count": null,
   "id": "2d8ebc9a-c3a2-47c0-81b8-fa234006f7e2",
   "metadata": {},
   "outputs": [],
   "source": []
  },
  {
   "cell_type": "code",
   "execution_count": null,
   "id": "cb581a6a-6dda-4c4f-ac50-586bf7d32a77",
   "metadata": {},
   "outputs": [],
   "source": []
  },
  {
   "cell_type": "code",
   "execution_count": null,
   "id": "b2ef0e81-554e-441f-94a8-1dc1f219ffef",
   "metadata": {},
   "outputs": [],
   "source": []
  },
  {
   "cell_type": "code",
   "execution_count": null,
   "id": "9bcdc5b5-3956-4468-93d0-da21c83d9e4c",
   "metadata": {},
   "outputs": [],
   "source": []
  }
 ],
 "metadata": {
  "kernelspec": {
   "display_name": "Python 3 (ipykernel)",
   "language": "python",
   "name": "python3"
  },
  "language_info": {
   "codemirror_mode": {
    "name": "ipython",
    "version": 3
   },
   "file_extension": ".py",
   "mimetype": "text/x-python",
   "name": "python",
   "nbconvert_exporter": "python",
   "pygments_lexer": "ipython3",
   "version": "3.11.0"
  }
 },
 "nbformat": 4,
 "nbformat_minor": 5
}
