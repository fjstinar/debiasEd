{
 "cells": [
  {
   "cell_type": "code",
   "execution_count": 20,
   "id": "93d82188-5aed-4b91-b767-3276da39660f",
   "metadata": {
    "execution": {
     "iopub.execute_input": "2024-11-08T04:37:11.011471Z",
     "iopub.status.busy": "2024-11-08T04:37:11.011230Z",
     "iopub.status.idle": "2024-11-08T04:37:11.288972Z",
     "shell.execute_reply": "2024-11-08T04:37:11.288298Z",
     "shell.execute_reply.started": "2024-11-08T04:37:11.011448Z"
    }
   },
   "outputs": [],
   "source": [
    "import os\n",
    "import pickle\n",
    "import pandas as pd"
   ]
  },
  {
   "cell_type": "code",
   "execution_count": 27,
   "id": "647f26b7-e555-4ca3-8310-c69efb9d6aa8",
   "metadata": {
    "execution": {
     "iopub.execute_input": "2024-11-08T04:37:11.296360Z",
     "iopub.status.busy": "2024-11-08T04:37:11.296123Z",
     "iopub.status.idle": "2024-11-08T04:37:11.340089Z",
     "shell.execute_reply": "2024-11-08T04:37:11.339370Z",
     "shell.execute_reply.started": "2024-11-08T04:37:11.296343Z"
    }
   },
   "outputs": [],
   "source": [
    "# Read data\n",
    "data_path = '../data/oulad/action_demograph_OULAD.csv'\n",
    "oulad = pd.read_csv(data_path)\n",
    "\n",
    "# Define mappings for categorical columns\n",
    "mappings = {\n",
    "    'code_module': {'AAA': 0, 'BBB': 1, 'CCC': 2, 'DDD': 3, 'EEE': 4, 'FFF': 5, 'GGG': 6},\n",
    "    'gender': {'M': 0, 'F': 1},\n",
    "    'code_presentation': {'2013J': 0, '2013B': 1, '2014J': 2, '2014B': 3},\n",
    "    'region': {\n",
    "        'Scotland': 0, 'East Midlands Region': 1, 'South Region': 2, 'East Anglian Region': 3,\n",
    "        'West Midlands Region': 4, 'South West Region': 5, 'South East Region': 6, \n",
    "        'North Western Region': 7, 'Yorkshire Region': 8, 'London Region': 9, \n",
    "        'Ireland': 10, 'North Region': 11\n",
    "    },\n",
    "    'highest_education': {\n",
    "        'HE Qualification': 1, 'A Level or Equivalent': 2, 'Lower Than A Level': 3,\n",
    "        'Post Graduate Qualification': 4, 'No Formal quals': 5\n",
    "    },\n",
    "    'imd_band': {\n",
    "        '70-80%': 1, '60-70%': 2, '50-60%': 3, '40-50%': 4, '30-40%': 5,\n",
    "        '20-30%': 6, '10-20': 7, '0-10%': 8, '90-90%': 9, '90-100%': 10\n",
    "    },\n",
    "    'age_band': {'0-35': 0, '35-55': 1, '55<=': 2},\n",
    "    'disability': {'Y': 1, 'N': 0}\n",
    "}\n",
    "\n",
    "# Apply mappings to relevant columns\n",
    "for column, mapping in mappings.items():\n",
    "    oulad[column] = oulad[column].map(mapping)\n",
    "\n",
    "# Drop rows with NaN values after mapping\n",
    "oulad = oulad.dropna()\n",
    "\n",
    "# Binary classification based on grade\n",
    "binary_map = lambda x: 0 if x < 0.5 else 1\n",
    "oulad['labels'] = oulad['grade'].apply(binary_map)\n",
    "\n",
    "# Drop unnecessary columns\n",
    "oulad.drop(['grade', 'final_result'], axis=1, inplace=True)\n",
    "\n",
    "# Define feature columns\n",
    "feature_columns = ['code_module', 'code_presentation', 'num_of_prev_attempts', 'studied_credits']\n",
    "\n",
    "# Create data file using column names\n",
    "data_file = {'data':{}, 'available_demographics': ['gender', 'region', 'age_band', 'disability', 'highest_education']}\n",
    "for i_row, row in oulad.iterrows():\n",
    "    data_file['data'][i_row] = {\n",
    "        'learner_id': int(i_row),\n",
    "        'features': row[feature_columns].values,\n",
    "        'gender': int(row['gender']),\n",
    "        'region': int(row['region']),\n",
    "        'age_band': int(row['age_band']),\n",
    "        'disability': int(row['disability']),\n",
    "        'highest_education': int(row['highest_education']),\n",
    "        'binary_label': int(row['labels'])\n",
    "    }\n",
    "\n",
    "# Save data file\n",
    "with open('../data/oulad/data_dictionary.pkl', 'wb') as fp:\n",
    "    pickle.dump(data_file, fp)"
   ]
  }
 ],
 "metadata": {
  "kernelspec": {
   "display_name": "Python 3 (ipykernel)",
   "language": "python",
   "name": "python3"
  },
  "language_info": {
   "codemirror_mode": {
    "name": "ipython",
    "version": 3
   },
   "file_extension": ".py",
   "mimetype": "text/x-python",
   "name": "python",
   "nbconvert_exporter": "python",
   "pygments_lexer": "ipython3",
   "version": "3.12.7"
  }
 },
 "nbformat": 4,
 "nbformat_minor": 5
}
