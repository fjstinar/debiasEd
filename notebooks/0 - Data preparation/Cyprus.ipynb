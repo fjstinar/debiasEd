{
 "cells": [
  {
   "cell_type": "code",
   "execution_count": 1,
   "id": "231cf163",
   "metadata": {
    "execution": {
     "iopub.execute_input": "2024-11-08T04:37:11.011471Z",
     "iopub.status.busy": "2024-11-08T04:37:11.011230Z",
     "iopub.status.idle": "2024-11-08T04:37:11.288972Z",
     "shell.execute_reply": "2024-11-08T04:37:11.288298Z",
     "shell.execute_reply.started": "2024-11-08T04:37:11.011448Z"
    }
   },
   "outputs": [],
   "source": [
    "import os\n",
    "import pickle\n",
    "import pandas as pd"
   ]
  },
  {
   "cell_type": "code",
   "execution_count": 2,
   "id": "b02dec59",
   "metadata": {
    "execution": {
     "iopub.execute_input": "2024-11-08T04:37:11.290706Z",
     "iopub.status.busy": "2024-11-08T04:37:11.289923Z",
     "iopub.status.idle": "2024-11-08T04:37:11.295178Z",
     "shell.execute_reply": "2024-11-08T04:37:11.294676Z",
     "shell.execute_reply.started": "2024-11-08T04:37:11.290690Z"
    }
   },
   "outputs": [
    {
     "name": "stdout",
     "output_type": "stream",
     "text": [
      "/Users/cock/kDrive/PhD/projects/labs/redacted-groupies/src\n"
     ]
    }
   ],
   "source": [
    "cd ../../src"
   ]
  },
  {
   "cell_type": "code",
   "execution_count": 3,
   "id": "68b3cd08",
   "metadata": {
    "execution": {
     "iopub.execute_input": "2024-11-08T04:37:11.296360Z",
     "iopub.status.busy": "2024-11-08T04:37:11.296123Z",
     "iopub.status.idle": "2024-11-08T04:37:11.340089Z",
     "shell.execute_reply": "2024-11-08T04:37:11.339370Z",
     "shell.execute_reply.started": "2024-11-08T04:37:11.296343Z"
    }
   },
   "outputs": [
    {
     "name": "stderr",
     "output_type": "stream",
     "text": [
      "/var/folders/jy/0pp1md9x1358dt8g8k69srhr0000gp/T/ipykernel_61529/1416340871.py:12: FutureWarning: Series.__getitem__ treating keys as positions is deprecated. In a future version, integer keys will always be treated as labels (consistent with DataFrame behavior). To access a value by position, use `ser.iloc[pos]`\n",
      "  'features': row[features_indices].values,\n",
      "/var/folders/jy/0pp1md9x1358dt8g8k69srhr0000gp/T/ipykernel_61529/1416340871.py:13: FutureWarning: Series.__getitem__ treating keys as positions is deprecated. In a future version, integer keys will always be treated as labels (consistent with DataFrame behavior). To access a value by position, use `ser.iloc[pos]`\n",
      "  'age': row[1],\n",
      "/var/folders/jy/0pp1md9x1358dt8g8k69srhr0000gp/T/ipykernel_61529/1416340871.py:14: FutureWarning: Series.__getitem__ treating keys as positions is deprecated. In a future version, integer keys will always be treated as labels (consistent with DataFrame behavior). To access a value by position, use `ser.iloc[pos]`\n",
      "  'sex': row[2],\n",
      "/var/folders/jy/0pp1md9x1358dt8g8k69srhr0000gp/T/ipykernel_61529/1416340871.py:15: FutureWarning: Series.__getitem__ treating keys as positions is deprecated. In a future version, integer keys will always be treated as labels (consistent with DataFrame behavior). To access a value by position, use `ser.iloc[pos]`\n",
      "  'private': int(row[3] == 1),\n",
      "/var/folders/jy/0pp1md9x1358dt8g8k69srhr0000gp/T/ipykernel_61529/1416340871.py:16: FutureWarning: Series.__getitem__ treating keys as positions is deprecated. In a future version, integer keys will always be treated as labels (consistent with DataFrame behavior). To access a value by position, use `ser.iloc[pos]`\n",
      "  'scholarship': row[4],\n"
     ]
    }
   ],
   "source": [
    "# Read data\n",
    "data_path = '../data/cyprus/data.csv'\n",
    "cyprus = pd.read_csv(data_path)\n",
    "cyprus.head()\n",
    "\n",
    "# Create data file\n",
    "data_file = {'data':{}, 'available_demographics': ['age', 'sex', 'private', 'scholarship',  'grade', 'binary_label']}\n",
    "features_indices = [i+1 for i in range(30)]\n",
    "for i_row, row in cyprus.iterrows():\n",
    "    data_file['data'][i_row] = {\n",
    "        'learner_id': row['STUDENT ID'],\n",
    "        'features': row[features_indices].values,\n",
    "        'age': row[1],\n",
    "        'sex': row[2],\n",
    "        'private': int(row[3] == 1),\n",
    "        'scholarship': row[4],\n",
    "        'course': row['COURSE ID'],\n",
    "        'grade': row['GRADE'],\n",
    "        'binary_label': int(row['GRADE'] >= 5)\n",
    "    }\n",
    "\n",
    "# Save data file\n",
    "with open('../data/cyprus/data_dictionary.pkl', 'wb') as fp:\n",
    "    pickle.dump(data_file, fp)"
   ]
  },
  {
   "cell_type": "code",
   "execution_count": null,
   "id": "0e86838e",
   "metadata": {},
   "outputs": [],
   "source": []
  },
  {
   "cell_type": "code",
   "execution_count": null,
   "id": "a164565f",
   "metadata": {},
   "outputs": [],
   "source": []
  },
  {
   "cell_type": "code",
   "execution_count": null,
   "id": "f1f9fcbe",
   "metadata": {},
   "outputs": [],
   "source": []
  },
  {
   "cell_type": "code",
   "execution_count": null,
   "id": "fba51ac8",
   "metadata": {},
   "outputs": [],
   "source": []
  },
  {
   "cell_type": "code",
   "execution_count": null,
   "id": "99ae0662",
   "metadata": {},
   "outputs": [],
   "source": []
  },
  {
   "cell_type": "code",
   "execution_count": null,
   "id": "0c0010d5",
   "metadata": {},
   "outputs": [],
   "source": []
  },
  {
   "cell_type": "code",
   "execution_count": null,
   "id": "22a166f2",
   "metadata": {},
   "outputs": [],
   "source": []
  },
  {
   "cell_type": "code",
   "execution_count": null,
   "id": "df9a2341",
   "metadata": {},
   "outputs": [],
   "source": []
  },
  {
   "cell_type": "code",
   "execution_count": null,
   "id": "7e5f3333",
   "metadata": {},
   "outputs": [],
   "source": []
  },
  {
   "cell_type": "code",
   "execution_count": null,
   "id": "4a525321",
   "metadata": {},
   "outputs": [],
   "source": []
  },
  {
   "cell_type": "code",
   "execution_count": null,
   "id": "97268049",
   "metadata": {},
   "outputs": [],
   "source": []
  },
  {
   "cell_type": "code",
   "execution_count": null,
   "id": "541e522e",
   "metadata": {},
   "outputs": [],
   "source": []
  },
  {
   "cell_type": "code",
   "execution_count": null,
   "id": "9ad38113",
   "metadata": {},
   "outputs": [],
   "source": []
  },
  {
   "cell_type": "code",
   "execution_count": null,
   "id": "a6be94e3",
   "metadata": {},
   "outputs": [],
   "source": []
  },
  {
   "cell_type": "code",
   "execution_count": null,
   "id": "b183d0c8",
   "metadata": {},
   "outputs": [],
   "source": []
  },
  {
   "cell_type": "code",
   "execution_count": null,
   "id": "a7b5c38c",
   "metadata": {},
   "outputs": [],
   "source": []
  },
  {
   "cell_type": "code",
   "execution_count": null,
   "id": "d2e2c8ae",
   "metadata": {},
   "outputs": [],
   "source": []
  },
  {
   "cell_type": "code",
   "execution_count": null,
   "id": "823227ac",
   "metadata": {},
   "outputs": [],
   "source": []
  }
 ],
 "metadata": {
  "kernelspec": {
   "display_name": "Python 3 (ipykernel)",
   "language": "python",
   "name": "python3"
  },
  "language_info": {
   "codemirror_mode": {
    "name": "ipython",
    "version": 3
   },
   "file_extension": ".py",
   "mimetype": "text/x-python",
   "name": "python",
   "nbconvert_exporter": "python",
   "pygments_lexer": "ipython3",
   "version": "3.11.0"
  }
 },
 "nbformat": 4,
 "nbformat_minor": 5
}
