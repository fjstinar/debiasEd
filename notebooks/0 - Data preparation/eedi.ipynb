{
 "cells": [
  {
   "cell_type": "code",
   "execution_count": 1,
   "metadata": {
    "execution": {
     "iopub.execute_input": "2025-01-31T19:52:17.480559Z",
     "iopub.status.busy": "2025-01-31T19:52:17.480354Z",
     "iopub.status.idle": "2025-01-31T19:52:17.791417Z",
     "shell.execute_reply": "2025-01-31T19:52:17.790705Z",
     "shell.execute_reply.started": "2025-01-31T19:52:17.480534Z"
    }
   },
   "outputs": [],
   "source": [
    "import os\n",
    "import pickle\n",
    "import pandas as pd"
   ]
  },
  {
   "cell_type": "code",
   "execution_count": 2,
   "metadata": {
    "execution": {
     "iopub.execute_input": "2025-01-31T19:52:17.800434Z",
     "iopub.status.busy": "2025-01-31T19:52:17.800267Z",
     "iopub.status.idle": "2025-01-31T19:52:25.528945Z",
     "shell.execute_reply": "2025-01-31T19:52:25.528296Z",
     "shell.execute_reply.started": "2025-01-31T19:52:17.800416Z"
    }
   },
   "outputs": [
    {
     "name": "stderr",
     "output_type": "stream",
     "text": [
      "/var/folders/6f/f2xtt03532968xxs43107mwm0000gn/T/ipykernel_14531/1431785155.py:1: DtypeWarning: Columns (7) have mixed types. Specify dtype option on import or set low_memory=False.\n",
      "  df = pd.read_csv('../data/eedi/combined_eedi_data.csv')\n"
     ]
    },
    {
     "data": {
      "text/html": [
       "<div>\n",
       "<style scoped>\n",
       "    .dataframe tbody tr th:only-of-type {\n",
       "        vertical-align: middle;\n",
       "    }\n",
       "\n",
       "    .dataframe tbody tr th {\n",
       "        vertical-align: top;\n",
       "    }\n",
       "\n",
       "    .dataframe thead th {\n",
       "        text-align: right;\n",
       "    }\n",
       "</style>\n",
       "<table border=\"1\" class=\"dataframe\">\n",
       "  <thead>\n",
       "    <tr style=\"text-align: right;\">\n",
       "      <th></th>\n",
       "      <th>QuestionId</th>\n",
       "      <th>UserId</th>\n",
       "      <th>AnswerId</th>\n",
       "      <th>IsCorrect</th>\n",
       "      <th>CorrectAnswer</th>\n",
       "      <th>AnswerValue</th>\n",
       "      <th>Gender</th>\n",
       "      <th>DateOfBirth</th>\n",
       "      <th>PremiumPupil</th>\n",
       "      <th>DateAnswered</th>\n",
       "      <th>Confidence</th>\n",
       "      <th>GroupId</th>\n",
       "      <th>QuizId</th>\n",
       "      <th>SchemeOfWorkId</th>\n",
       "    </tr>\n",
       "  </thead>\n",
       "  <tbody>\n",
       "    <tr>\n",
       "      <th>0</th>\n",
       "      <td>16997.0</td>\n",
       "      <td>65967.0</td>\n",
       "      <td>12453206.0</td>\n",
       "      <td>0.0</td>\n",
       "      <td>4.0</td>\n",
       "      <td>2.0</td>\n",
       "      <td>1.0</td>\n",
       "      <td>2002-11-01 00:00:00.000</td>\n",
       "      <td>0.0</td>\n",
       "      <td>2019-04-24 13:42:00.000</td>\n",
       "      <td>NaN</td>\n",
       "      <td>5026</td>\n",
       "      <td>15391</td>\n",
       "      <td>8408.0</td>\n",
       "    </tr>\n",
       "    <tr>\n",
       "      <th>1</th>\n",
       "      <td>21040.0</td>\n",
       "      <td>65967.0</td>\n",
       "      <td>14362280.0</td>\n",
       "      <td>1.0</td>\n",
       "      <td>2.0</td>\n",
       "      <td>2.0</td>\n",
       "      <td>1.0</td>\n",
       "      <td>2002-11-01 00:00:00.000</td>\n",
       "      <td>0.0</td>\n",
       "      <td>2019-02-06 14:56:00.000</td>\n",
       "      <td>NaN</td>\n",
       "      <td>5026</td>\n",
       "      <td>6722</td>\n",
       "      <td>8408.0</td>\n",
       "    </tr>\n",
       "    <tr>\n",
       "      <th>2</th>\n",
       "      <td>2355.0</td>\n",
       "      <td>65967.0</td>\n",
       "      <td>16007479.0</td>\n",
       "      <td>1.0</td>\n",
       "      <td>4.0</td>\n",
       "      <td>4.0</td>\n",
       "      <td>1.0</td>\n",
       "      <td>2002-11-01 00:00:00.000</td>\n",
       "      <td>0.0</td>\n",
       "      <td>2019-01-09 14:56:00.000</td>\n",
       "      <td>NaN</td>\n",
       "      <td>5026</td>\n",
       "      <td>7207</td>\n",
       "      <td>8399.0</td>\n",
       "    </tr>\n",
       "    <tr>\n",
       "      <th>3</th>\n",
       "      <td>12938.0</td>\n",
       "      <td>65967.0</td>\n",
       "      <td>568874.0</td>\n",
       "      <td>1.0</td>\n",
       "      <td>4.0</td>\n",
       "      <td>4.0</td>\n",
       "      <td>1.0</td>\n",
       "      <td>2002-11-01 00:00:00.000</td>\n",
       "      <td>0.0</td>\n",
       "      <td>2019-04-24 13:36:00.000</td>\n",
       "      <td>NaN</td>\n",
       "      <td>5026</td>\n",
       "      <td>16161</td>\n",
       "      <td>8400.0</td>\n",
       "    </tr>\n",
       "    <tr>\n",
       "      <th>4</th>\n",
       "      <td>10732.0</td>\n",
       "      <td>65967.0</td>\n",
       "      <td>14081012.0</td>\n",
       "      <td>1.0</td>\n",
       "      <td>3.0</td>\n",
       "      <td>3.0</td>\n",
       "      <td>1.0</td>\n",
       "      <td>2002-11-01 00:00:00.000</td>\n",
       "      <td>0.0</td>\n",
       "      <td>2019-02-06 14:42:00.000</td>\n",
       "      <td>NaN</td>\n",
       "      <td>5026</td>\n",
       "      <td>6722</td>\n",
       "      <td>8408.0</td>\n",
       "    </tr>\n",
       "  </tbody>\n",
       "</table>\n",
       "</div>"
      ],
      "text/plain": [
       "   QuestionId   UserId    AnswerId  IsCorrect  CorrectAnswer  AnswerValue  \\\n",
       "0     16997.0  65967.0  12453206.0        0.0            4.0          2.0   \n",
       "1     21040.0  65967.0  14362280.0        1.0            2.0          2.0   \n",
       "2      2355.0  65967.0  16007479.0        1.0            4.0          4.0   \n",
       "3     12938.0  65967.0    568874.0        1.0            4.0          4.0   \n",
       "4     10732.0  65967.0  14081012.0        1.0            3.0          3.0   \n",
       "\n",
       "   Gender              DateOfBirth  PremiumPupil             DateAnswered  \\\n",
       "0     1.0  2002-11-01 00:00:00.000           0.0  2019-04-24 13:42:00.000   \n",
       "1     1.0  2002-11-01 00:00:00.000           0.0  2019-02-06 14:56:00.000   \n",
       "2     1.0  2002-11-01 00:00:00.000           0.0  2019-01-09 14:56:00.000   \n",
       "3     1.0  2002-11-01 00:00:00.000           0.0  2019-04-24 13:36:00.000   \n",
       "4     1.0  2002-11-01 00:00:00.000           0.0  2019-02-06 14:42:00.000   \n",
       "\n",
       "   Confidence  GroupId  QuizId  SchemeOfWorkId  \n",
       "0         NaN     5026   15391          8408.0  \n",
       "1         NaN     5026    6722          8408.0  \n",
       "2         NaN     5026    7207          8399.0  \n",
       "3         NaN     5026   16161          8400.0  \n",
       "4         NaN     5026    6722          8408.0  "
      ]
     },
     "execution_count": 2,
     "metadata": {},
     "output_type": "execute_result"
    }
   ],
   "source": [
    "df = pd.read_csv('../data/eedi/combined_eedi_data.csv')\n",
    "df.head()"
   ]
  },
  {
   "cell_type": "code",
   "execution_count": 3,
   "metadata": {
    "execution": {
     "iopub.execute_input": "2025-01-31T19:52:25.532634Z",
     "iopub.status.busy": "2025-01-31T19:52:25.532142Z",
     "iopub.status.idle": "2025-01-31T19:52:25.536994Z",
     "shell.execute_reply": "2025-01-31T19:52:25.536428Z",
     "shell.execute_reply.started": "2025-01-31T19:52:25.532608Z"
    }
   },
   "outputs": [
    {
     "data": {
      "text/plain": [
       "Index(['QuestionId', 'UserId', 'AnswerId', 'IsCorrect', 'CorrectAnswer',\n",
       "       'AnswerValue', 'Gender', 'DateOfBirth', 'PremiumPupil', 'DateAnswered',\n",
       "       'GroupId', 'QuizId', 'SchemeOfWorkId'],\n",
       "      dtype='object')"
      ]
     },
     "execution_count": 3,
     "metadata": {},
     "output_type": "execute_result"
    }
   ],
   "source": [
    "df = df.drop(columns=['Confidence'])\n",
    "df.columns"
   ]
  },
  {
   "cell_type": "code",
   "execution_count": 4,
   "metadata": {},
   "outputs": [
    {
     "name": "stdout",
     "output_type": "stream",
     "text": [
      "19834820\n",
      "4181925\n"
     ]
    }
   ],
   "source": [
    "print(len(df))\n",
    "df = df.dropna()\n",
    "print(len(df))"
   ]
  },
  {
   "cell_type": "code",
   "execution_count": 9,
   "metadata": {},
   "outputs": [
    {
     "data": {
      "text/plain": [
       "Gender\n",
       "1.0    10843\n",
       "2.0    10398\n",
       "0.0        2\n",
       "Name: count, dtype: int64"
      ]
     },
     "execution_count": 9,
     "metadata": {},
     "output_type": "execute_result"
    }
   ],
   "source": [
    "df[['UserId', 'Gender']].drop_duplicates()['Gender'].value_counts()"
   ]
  },
  {
   "cell_type": "code",
   "execution_count": 11,
   "metadata": {
    "execution": {
     "iopub.execute_input": "2025-01-31T19:52:25.538954Z",
     "iopub.status.busy": "2025-01-31T19:52:25.538729Z",
     "iopub.status.idle": "2025-01-31T20:03:13.062812Z",
     "shell.execute_reply": "2025-01-31T20:03:13.061981Z",
     "shell.execute_reply.started": "2025-01-31T19:52:25.538935Z"
    }
   },
   "outputs": [],
   "source": [
    "df['labels'] = df['IsCorrect']\n",
    "\n",
    "# Drop unnecessary columns\n",
    "#df.drop(['AnswerValue'], axis=1, inplace=True)\n",
    "df.drop(['IsCorrect'], axis=1, inplace=True)\n",
    "\n",
    "# Define feature columns\n",
    "feature_columns = ['QuestionId', 'UserId', 'AnswerId',\n",
    "       'Gender', 'DateAnswered',]\n",
    "\n",
    "# Create data file using column names\n",
    "data_file = {'data':{}, 'available_demographics': ['Gender']}\n",
    "for i_row, row in df.iterrows():\n",
    "    data_file['data'][i_row] = {\n",
    "        'learner_id': int(row['UserId']),\n",
    "        'features': row[feature_columns].values,\n",
    "        'gender': int(row['Gender']),\n",
    "        'binary_label': int(row['labels'])\n",
    "    }\n"
   ]
  },
  {
   "cell_type": "code",
   "execution_count": 12,
   "metadata": {
    "execution": {
     "iopub.execute_input": "2025-01-31T20:03:13.064148Z",
     "iopub.status.busy": "2025-01-31T20:03:13.063772Z",
     "iopub.status.idle": "2025-01-31T20:03:19.486562Z",
     "shell.execute_reply": "2025-01-31T20:03:19.485743Z",
     "shell.execute_reply.started": "2025-01-31T20:03:13.064129Z"
    }
   },
   "outputs": [],
   "source": [
    "# Save data file\n",
    "with open('../data/eedi/data_dictionary.pkl', 'wb') as fp:\n",
    "    pickle.dump(data_file, fp)"
   ]
  },
  {
   "cell_type": "code",
   "execution_count": null,
   "metadata": {},
   "outputs": [],
   "source": []
  }
 ],
 "metadata": {
  "kernelspec": {
   "display_name": "Python 3 (ipykernel)",
   "language": "python",
   "name": "python3"
  },
  "language_info": {
   "codemirror_mode": {
    "name": "ipython",
    "version": 3
   },
   "file_extension": ".py",
   "mimetype": "text/x-python",
   "name": "python",
   "nbconvert_exporter": "python",
   "pygments_lexer": "ipython3",
   "version": "3.12.7"
  }
 },
 "nbformat": 4,
 "nbformat_minor": 4
}
