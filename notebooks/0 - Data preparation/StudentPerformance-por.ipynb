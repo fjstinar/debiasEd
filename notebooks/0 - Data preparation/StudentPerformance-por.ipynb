{
 "cells": [
  {
   "cell_type": "code",
   "execution_count": 1,
   "id": "93d82188-5aed-4b91-b767-3276da39660f",
   "metadata": {
    "execution": {
     "iopub.execute_input": "2024-11-27T03:29:22.785288Z",
     "iopub.status.busy": "2024-11-27T03:29:22.785072Z",
     "iopub.status.idle": "2024-11-27T03:29:23.152437Z",
     "shell.execute_reply": "2024-11-27T03:29:23.151457Z",
     "shell.execute_reply.started": "2024-11-27T03:29:22.785263Z"
    }
   },
   "outputs": [],
   "source": [
    "import os\n",
    "import pickle\n",
    "import pandas as pd"
   ]
  },
  {
   "cell_type": "code",
   "execution_count": 2,
   "id": "647f26b7-e555-4ca3-8310-c69efb9d6aa8",
   "metadata": {
    "execution": {
     "iopub.execute_input": "2024-11-27T03:29:23.153814Z",
     "iopub.status.busy": "2024-11-27T03:29:23.153284Z",
     "iopub.status.idle": "2024-11-27T03:29:23.438876Z",
     "shell.execute_reply": "2024-11-27T03:29:23.437792Z",
     "shell.execute_reply.started": "2024-11-27T03:29:23.153786Z"
    }
   },
   "outputs": [
    {
     "name": "stdout",
     "output_type": "stream",
     "text": [
      "  school sex  age address famsize Pstatus  Medu  Fedu     Mjob      Fjob  ...  \\\n",
      "0     GP   F   18       U     GT3       A     4     4  at_home   teacher  ...   \n",
      "1     GP   F   17       U     GT3       T     1     1  at_home     other  ...   \n",
      "2     GP   F   15       U     LE3       T     1     1  at_home     other  ...   \n",
      "3     GP   F   15       U     GT3       T     4     2   health  services  ...   \n",
      "4     GP   F   16       U     GT3       T     3     3    other     other  ...   \n",
      "\n",
      "  famrel freetime  goout  Dalc  Walc health absences  G1  G2  G3  \n",
      "0      4        3      4     1     1      3        4   0  11  11  \n",
      "1      5        3      3     1     1      3        2   9  11  11  \n",
      "2      4        3      2     2     3      3        6  12  13  12  \n",
      "3      3        2      2     1     1      5        0  14  14  14  \n",
      "4      4        3      2     1     2      5        0  11  13  13  \n",
      "\n",
      "[5 rows x 33 columns]\n"
     ]
    },
    {
     "name": "stderr",
     "output_type": "stream",
     "text": [
      "/var/folders/jy/0pp1md9x1358dt8g8k69srhr0000gp/T/ipykernel_51447/2340188751.py:44: FutureWarning: Series.__getitem__ treating keys as positions is deprecated. In a future version, integer keys will always be treated as labels (consistent with DataFrame behavior). To access a value by position, use `ser.iloc[pos]`\n",
      "  'features': row[features_indices].values,\n",
      "/var/folders/jy/0pp1md9x1358dt8g8k69srhr0000gp/T/ipykernel_51447/2340188751.py:45: FutureWarning: Series.__getitem__ treating keys as positions is deprecated. In a future version, integer keys will always be treated as labels (consistent with DataFrame behavior). To access a value by position, use `ser.iloc[pos]`\n",
      "  'sex': row[1],\n",
      "/var/folders/jy/0pp1md9x1358dt8g8k69srhr0000gp/T/ipykernel_51447/2340188751.py:46: FutureWarning: Series.__getitem__ treating keys as positions is deprecated. In a future version, integer keys will always be treated as labels (consistent with DataFrame behavior). To access a value by position, use `ser.iloc[pos]`\n",
      "  'age': row[2],\n",
      "/var/folders/jy/0pp1md9x1358dt8g8k69srhr0000gp/T/ipykernel_51447/2340188751.py:47: FutureWarning: Series.__getitem__ treating keys as positions is deprecated. In a future version, integer keys will always be treated as labels (consistent with DataFrame behavior). To access a value by position, use `ser.iloc[pos]`\n",
      "  'famsize': row[4],\n",
      "/var/folders/jy/0pp1md9x1358dt8g8k69srhr0000gp/T/ipykernel_51447/2340188751.py:48: FutureWarning: Series.__getitem__ treating keys as positions is deprecated. In a future version, integer keys will always be treated as labels (consistent with DataFrame behavior). To access a value by position, use `ser.iloc[pos]`\n",
      "  'famsup': row[16],\n",
      "/var/folders/jy/0pp1md9x1358dt8g8k69srhr0000gp/T/ipykernel_51447/2340188751.py:49: FutureWarning: Series.__getitem__ treating keys as positions is deprecated. In a future version, integer keys will always be treated as labels (consistent with DataFrame behavior). To access a value by position, use `ser.iloc[pos]`\n",
      "  'higher': row[21],\n"
     ]
    }
   ],
   "source": [
    "# Read data\n",
    "data_path = '../data/student-performance-por/student-por.csv'\n",
    "studentPerf = pd.read_csv(data_path, delimiter = ';')\n",
    "print(studentPerf.head())\n",
    "\n",
    "binary_map = {**dict.fromkeys(range(0, 11), 0), **dict.fromkeys(range(11, 21), 1)}\n",
    "studentPerf['labels'] = studentPerf['G3'].map(binary_map)\n",
    "studentPerf.drop('G3', axis=1, inplace=True)\n",
    "\n",
    "# Define mappings for categorical columns\n",
    "mappings = {\n",
    "    'school': {'GP': 0, 'MS': 1},\n",
    "    'sex': {'M': 0, 'F': 1},\n",
    "    'age': {15: 0, 16: 1, 17: 2, 18: 3, 19: 4, 20: 5, 21: 6, 22: 7},\n",
    "    'address': {'U': 0, 'R': 1},\n",
    "    'famsize': {'LE3': 0, 'GT3': 1},  # Fixed the value for 'GT3' to 1\n",
    "    'Pstatus': {'T': 0, 'A': 1},\n",
    "    'Mjob': {'teacher': 0, 'health': 1, 'services': 2, 'at_home': 3, 'other': 4},\n",
    "    'Fjob': {'teacher': 0, 'health': 1, 'services': 2, 'at_home': 3, 'other': 4},\n",
    "    'reason': {'home': 0, 'reputation': 1, 'course': 2, 'other': 3},\n",
    "    'guardian': {'mother': 0, 'father': 1, 'other': 2},\n",
    "    'schoolsup': {'yes': 0, 'no': 1},\n",
    "    'famsup': {'yes': 0, 'no': 1},\n",
    "    'paid': {'yes': 0, 'no': 1},\n",
    "    'activities': {'yes': 0, 'no': 1},\n",
    "    'nursery': {'yes': 0, 'no': 1},\n",
    "    'higher': {'yes': 0, 'no': 1},\n",
    "    'internet': {'yes': 0, 'no': 1},\n",
    "    'romantic': {'yes': 0, 'no': 1},\n",
    "}\n",
    "\n",
    "# Apply mappings to relevant columns\n",
    "for column, mapping in mappings.items():\n",
    "    studentPerf[column] = studentPerf[column].map(mapping)\n",
    "\n",
    "\n",
    "##\n",
    "# Create data file\n",
    "data_file = {'data':{}, 'available_demographics': ['age', 'sex', 'famsize', 'famsup',  'higher']}\n",
    "features_indices = [i+1 for i in range(20)]\n",
    "for i_row, row in studentPerf.iterrows():\n",
    "    data_file['data'][i_row] = {\n",
    "        'learner_id': i_row,\n",
    "        'features': row[features_indices].values,\n",
    "        'sex': row[1],\n",
    "        'age': row[2],\n",
    "        'famsize': row[4],\n",
    "        'famsup': row[16],\n",
    "        'higher': row[21],\n",
    "        'binary_label': int(row['labels'])\n",
    "    }\n",
    "\n",
    "# Save data file\n",
    "with open('../data/student-performance-por/data_dictionary.pkl', 'wb') as fp:\n",
    "    pickle.dump(data_file, fp)"
   ]
  }
 ],
 "metadata": {
  "kernelspec": {
   "display_name": "Python 3 (ipykernel)",
   "language": "python",
   "name": "python3"
  },
  "language_info": {
   "codemirror_mode": {
    "name": "ipython",
    "version": 3
   },
   "file_extension": ".py",
   "mimetype": "text/x-python",
   "name": "python",
   "nbconvert_exporter": "python",
   "pygments_lexer": "ipython3",
   "version": "3.12.7"
  }
 },
 "nbformat": 4,
 "nbformat_minor": 5
}
